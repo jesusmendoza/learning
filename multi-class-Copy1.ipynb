{
 "cells": [
  {
   "cell_type": "code",
   "execution_count": 1,
   "metadata": {},
   "outputs": [],
   "source": [
    "import numpy as np\n",
    "import pandas as pd"
   ]
  },
  {
   "cell_type": "code",
   "execution_count": 2,
   "metadata": {},
   "outputs": [],
   "source": [
    "class multiclass():\n",
    "    def __init__(self,input = 3, capas=1,nodos=1,clases = 3):\n",
    "        self.capas = capas\n",
    "        self.nodos = nodos\n",
    "        self.forma = (self.capas,self.nodos)\n",
    "        self.clases = clases\n",
    "        self.input = input\n",
    "    def inicializar(self):\n",
    "        self.red = []\n",
    "        w = np.random.normal(size = (self.input,self.nodos))\n",
    "        b = np.random.normal(size = self.nodos)\n",
    "        self.red.append([w,b])\n",
    "        for capa in range(self.capas):\n",
    "            w = np.random.normal(size = (self.nodos,self.nodos))\n",
    "            b = np.random.normal(size = self.nodos)\n",
    "            self.red.append([w,b])\n",
    "        w_f = np.random.normal(size = [self.nodos,self.clases])\n",
    "        b_f = np.random.normal(size = self.clases)\n",
    "        self.red.append([w_f,b_f])\n",
    "    def mutar(self,alfa=0.1):\n",
    "        red = []\n",
    "        for r in self.red:\n",
    "            r0 = r[0]+alfa*np.random.normal(size = r[0].shape)\n",
    "            r1 = r[1]+alfa*np.random.normal(size = r[1].shape)\n",
    "            red.append([r0,r1])\n",
    "        hijo = multiclass(self.input,self.capas,self.nodos,self.clases)\n",
    "        hijo.inicializar()\n",
    "        hijo.red = red\n",
    "        return hijo\n",
    "    def cruzar(self,other):\n",
    "        if self.forma == other.forma:\n",
    "            hijo = multiclass(self.input,self.capas,self.nodos,self.clases)\n",
    "            hijo.inicializar()\n",
    "            red = []\n",
    "            for i in range(len(self.red)):\n",
    "                r0 = (self.red[i][0] + other.red[i][0])/2.0\n",
    "                r1 = (self.red[i][1] + other.red[i][1])/2.0\n",
    "                red.append([r0,r1])\n",
    "            hijo.red = red\n",
    "            return hijo\n",
    "        else:\n",
    "            return None\n",
    "    def sigmoid(self,x):\n",
    "        return 1.0/(1.0 + np.exp(-x))\n",
    "    def softmax(self,x):\n",
    "        x = np.exp(x)/(np.exp(x).sum())\n",
    "        return x\n",
    "    def predecir(self,entrada):\n",
    "        for rr in range(len(self.red)):\n",
    "            r = self.red[rr]\n",
    "            entrada = np.dot(entrada,r[0])\n",
    "            entrada = entrada + r[1]\n",
    "            entrada = self.sigmoid(entrada)\n",
    "        entrada = self.softmax(entrada)\n",
    "        entrada = entrada.argmax()\n",
    "        return entrada\n",
    "    def evaluar(self,entrada,resultado):\n",
    "        entrada = self.predecir(entrada)\n",
    "        if float(entrada) == float(resultado):\n",
    "            return 1\n",
    "        return 0\n",
    "\n",
    "        \n",
    "            \n",
    "    "
   ]
  },
  {
   "cell_type": "code",
   "execution_count": 3,
   "metadata": {},
   "outputs": [],
   "source": [
    "def crear_poblacion(poblacion_por_especie,especies,input,nodos,clases):\n",
    "    poblacion = []\n",
    "    for i in range(poblacion_por_especie):\n",
    "        for j in especies:\n",
    "            individuo = multiclass(input = input,capas = j,nodos = nodos,clases = clases)\n",
    "            individuo.inicializar()\n",
    "            poblacion.append(individuo)\n",
    "    return poblacion"
   ]
  },
  {
   "cell_type": "code",
   "execution_count": 4,
   "metadata": {},
   "outputs": [],
   "source": [
    "def evaluar_poblacion(poblacion,muestra):\n",
    "    scores = []\n",
    "    for p in poblacion:\n",
    "        score = 0\n",
    "        count = 0\n",
    "        for r in muestra.iterrows():\n",
    "            v = r[1].target\n",
    "            u = r[1]\n",
    "            del u['target']\n",
    "            score += p.evaluar(u.values,v)\n",
    "            count += 1\n",
    "        score = float(score / float(count))\n",
    "        scores.append(score)\n",
    "    return scores"
   ]
  },
  {
   "cell_type": "code",
   "execution_count": 5,
   "metadata": {},
   "outputs": [],
   "source": [
    "def predecir(best_model,test):\n",
    "    scores = []\n",
    "    for r in test.iterrows():\n",
    "        u = r[1]\n",
    "        score = p.predecir(u)\n",
    "        scores.append(score)\n",
    "    return scores"
   ]
  },
  {
   "cell_type": "code",
   "execution_count": 6,
   "metadata": {},
   "outputs": [],
   "source": [
    "titanic = pd.read_csv('mnist/train.csv')\n",
    "titanic = titanic.rename(columns={'label':'target'})\n"
   ]
  },
  {
   "cell_type": "code",
   "execution_count": 7,
   "metadata": {},
   "outputs": [
    {
     "data": {
      "text/plain": [
       "0    1\n",
       "1    0\n",
       "2    1\n",
       "3    4\n",
       "4    0\n",
       "Name: target, dtype: int64"
      ]
     },
     "execution_count": 7,
     "metadata": {},
     "output_type": "execute_result"
    }
   ],
   "source": [
    "titanic.target.head()"
   ]
  },
  {
   "cell_type": "code",
   "execution_count": 8,
   "metadata": {},
   "outputs": [],
   "source": [
    "titanic_train = titanic.sample(38000)\n",
    "titanic_test = titanic.loc[~titanic.index.isin(titanic_train.index),:]\n",
    "\n"
   ]
  },
  {
   "cell_type": "code",
   "execution_count": 9,
   "metadata": {},
   "outputs": [
    {
     "data": {
      "text/plain": [
       "11054    8\n",
       "28458    8\n",
       "33353    5\n",
       "5448     2\n",
       "6473     1\n",
       "Name: target, dtype: int64"
      ]
     },
     "execution_count": 9,
     "metadata": {},
     "output_type": "execute_result"
    }
   ],
   "source": [
    "titanic_train.target.head()"
   ]
  },
  {
   "cell_type": "code",
   "execution_count": 10,
   "metadata": {},
   "outputs": [],
   "source": [
    "poblacion = crear_poblacion(1000,[1],784,64,10)\n",
    "poblacion = pd.DataFrame(list(zip(poblacion,range(len(poblacion)))))\n",
    "poblacion.columns = ['model','score']"
   ]
  },
  {
   "cell_type": "code",
   "execution_count": null,
   "metadata": {},
   "outputs": [
    {
     "name": "stderr",
     "output_type": "stream",
     "text": [
      "/home/jesus/anaconda3/envs/tensorflow/lib/python3.4/site-packages/ipykernel_launcher.py:44: RuntimeWarning: overflow encountered in exp\n"
     ]
    },
    {
     "name": "stdout",
     "output_type": "stream",
     "text": [
      "0 0.10087 0.2 0.3105140892870344\n",
      "1 0.10655 0.22 0.5798592040049259\n",
      "2 0.10818000000000001 0.22 0.998728894777393\n",
      "3 0.10820500000000001 0.195 0.2955461310958072\n",
      "4 0.10939000000000002 0.2 0.7343114298602379\n",
      "5 0.11248 0.22 0.7737437429235202\n",
      "6 0.11585000000000001 0.21 0.3182467141572356\n",
      "7 0.12461000000000001 0.235 0.18968937719803025\n",
      "8 0.12406500000000001 0.215 0.8675807440933987\n",
      "9 0.12392 0.24 0.2924781102522853\n",
      "10 0.12147500000000001 0.215 0.7032767974240229\n",
      "11 0.128505 0.245 0.15740771691785882\n",
      "12 0.12066500000000001 0.23 0.9388790029269494\n",
      "13 0.125545 0.235 0.07540776903776236\n",
      "14 0.122295 0.22 0.9379042388022037\n",
      "15 0.125235 0.22 0.5682145536005321\n",
      "16 0.13177 0.225 0.11599411867931797\n",
      "17 0.13587 0.245 0.930193990330323\n",
      "18 0.14539999999999997 0.235 0.2765831930251911\n",
      "19 0.14417000000000002 0.24 0.04027348727507751\n",
      "20 0.13167500000000001 0.225 0.8614046818894187\n",
      "21 0.161 0.26 0.7736452045586976\n",
      "22 0.14977499999999996 0.265 0.7530527216933524\n",
      "23 0.13980499999999998 0.245 0.8856892283230295\n",
      "24 0.15258000000000002 0.245 0.033994261700291184\n",
      "25 0.181905 0.27 0.054550279259460654\n"
     ]
    }
   ],
   "source": [
    "\n",
    "for i in range(1000):\n",
    "    alfa = np.random.random()\n",
    "    scores = evaluar_poblacion(poblacion.model.tolist(),titanic_train.sample(200))\n",
    "    poblacion.score = scores\n",
    "    print(i,poblacion.score.mean(),poblacion.score.max(),alfa)\n",
    "    poblacion = poblacion.sort_values('score',ascending=False)[0:int(len(poblacion)/2)]\n",
    "    nueva_poblacion = []\n",
    "    alfa = 1\n",
    "    for p in poblacion.model.tolist():\n",
    "        hijo = p.mutar(alfa = alfa)\n",
    "        nueva_poblacion.append(hijo)\n",
    "    nueva_poblacion = pd.DataFrame(list(zip(nueva_poblacion,range(len(nueva_poblacion)))))\n",
    "    nueva_poblacion.columns = ['model','score']\n",
    "    poblacion = poblacion.append(nueva_poblacion).reset_index(drop=True)\n"
   ]
  },
  {
   "cell_type": "code",
   "execution_count": null,
   "metadata": {},
   "outputs": [],
   "source": [
    "scores = evaluar_poblacion(poblacion.model.tolist(),titanic_train)\n",
    "poblacion.score = scores\n",
    "poblacion.sort_values('score',ascending=False)"
   ]
  },
  {
   "cell_type": "code",
   "execution_count": null,
   "metadata": {},
   "outputs": [],
   "source": [
    "best_model = poblacion.sort_values('score',ascending = False).iloc[0,0]"
   ]
  },
  {
   "cell_type": "code",
   "execution_count": null,
   "metadata": {},
   "outputs": [],
   "source": []
  },
  {
   "cell_type": "code",
   "execution_count": null,
   "metadata": {},
   "outputs": [],
   "source": [
    "titanic = pd.read_csv('mnist/test.csv')\n"
   ]
  },
  {
   "cell_type": "code",
   "execution_count": null,
   "metadata": {},
   "outputs": [],
   "source": [
    "titanic.head()"
   ]
  },
  {
   "cell_type": "code",
   "execution_count": null,
   "metadata": {},
   "outputs": [],
   "source": [
    "resultado = pd.read_csv('mnist/test.csv')\n",
    "scores = predecir(best_model,titanic)\n",
    "resultado['Label'] = scores\n",
    "resultado.Label = resultado.Label.round().astype(int)\n",
    "resultado['ImageId']=list(range(1,len(resultado)+1))\n",
    "\n",
    "resultado[['ImageId','Label']].to_csv('mnist/result.csv',index=False)"
   ]
  },
  {
   "cell_type": "code",
   "execution_count": null,
   "metadata": {},
   "outputs": [],
   "source": []
  },
  {
   "cell_type": "code",
   "execution_count": null,
   "metadata": {},
   "outputs": [],
   "source": []
  }
 ],
 "metadata": {
  "kernelspec": {
   "display_name": "Python 3",
   "language": "python",
   "name": "python3"
  },
  "language_info": {
   "codemirror_mode": {
    "name": "ipython",
    "version": 3
   },
   "file_extension": ".py",
   "mimetype": "text/x-python",
   "name": "python",
   "nbconvert_exporter": "python",
   "pygments_lexer": "ipython3",
   "version": "3.4.5"
  }
 },
 "nbformat": 4,
 "nbformat_minor": 2
}
