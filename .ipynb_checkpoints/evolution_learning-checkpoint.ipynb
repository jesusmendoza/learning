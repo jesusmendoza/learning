{
 "cells": [
  {
   "cell_type": "code",
   "execution_count": 41,
   "metadata": {},
   "outputs": [],
   "source": [
    "import numpy as np\n",
    "import pandas as pd\n",
    "from keras.models import Sequential\n",
    "from keras.layers import Dense, Dropout"
   ]
  },
  {
   "cell_type": "code",
   "execution_count": 85,
   "metadata": {},
   "outputs": [],
   "source": [
    "def crear_modelo_inicial(n_internas):\n",
    "    model = Sequential()\n",
    "    model.add(Dense(7, input_dim=7,activation='sigmoid'))\n",
    "    for i in range(n_internas):\n",
    "        model.add(Dense(14, activation='sigmoid'))\n",
    "    model.add(Dense(1, activation='sigmoid'))\n",
    "    model.compile(loss='binary_crossentropy',\n",
    "              optimizer='rmsprop',\n",
    "              metrics=['accuracy'])\n",
    "    return model\n",
    "\n",
    "def modificar_modelo(model_padre,alpha=0.1):\n",
    "    pesos = model_padre.get_weights()\n",
    "    l=[]\n",
    "    for p in pesos:\n",
    "        u = p + alpha*np.random.normal(size=p.shape)\n",
    "        l.append(u)\n",
    "    config = model_padre.get_config()\n",
    "    new_model = Sequential.from_config(config)\n",
    "    new_model.set_weights(l)\n",
    "    return new_model"
   ]
  },
  {
   "cell_type": "code",
   "execution_count": 47,
   "metadata": {},
   "outputs": [],
   "source": [
    "def nueva_generacion(df,n_input,n_output):\n",
    "    df = df.reset_index(drop=True)\n",
    "    df = df.loc[0:200]\n",
    "    generacion = df.individuos.tolist()\n",
    "    nueva_generacion = []\n",
    "    \n",
    "    for individuo in generacion:\n",
    "        for j in range(3):\n",
    "            i = np.random.randint(0,3)\n",
    "            input = individuo.input + 1.0/float(10**i)*np.random.normal(size=[n_input,n_input])\n",
    "            l1 = individuo.l1 + 1.0/float(10**i)*np.random.normal(size=[n_input,n_input])\n",
    "            output = individuo.output + 1.0/float(10**i)*np.random.normal(size=[n_input,n_output])\n",
    "            individuo1 = nn(input,l1,output)\n",
    "            nueva_generacion.append(individuo1)\n",
    "        i1 = df.individuos.sample(1).values[0]\n",
    "        i2 = df.individuos.sample(1).values[0]\n",
    "        input = i1.input + i2.input\n",
    "        l1 = i1.l1 + i2.l1\n",
    "        output = i1.output+i2.output\n",
    "        individuo4 = nn(input,l1,output)        \n",
    "        nueva_generacion.append(individuo4)\n",
    "        nueva_generacion.append(individuo)\n",
    "    return nueva_generacion\n",
    "        \n",
    "\n"
   ]
  },
  {
   "cell_type": "code",
   "execution_count": 48,
   "metadata": {},
   "outputs": [
    {
     "data": {
      "text/plain": [
       "891"
      ]
     },
     "execution_count": 48,
     "metadata": {},
     "output_type": "execute_result"
    }
   ],
   "source": [
    "titanic = pd.read_csv('train.csv')\n",
    "titanic = titanic[['Survived','Pclass','Sex','Age','SibSp','Parch']]\n",
    "titanic['target'] = titanic.Survived\n",
    "titanic['Pclass_1']=np.where(titanic.Pclass==1,1,0)\n",
    "titanic['Pclass_2']=np.where(titanic.Pclass==2,1,0)\n",
    "titanic['Pclass_3']=np.where(titanic.Pclass==3,1,0)\n",
    "titanic['Sex']=np.where(titanic.Sex=='male',1,0)\n",
    "titanic = titanic.fillna(titanic.mean())\n",
    "titanic[['Age']] = titanic[['Age']]/titanic[['Age']].mean()\n",
    "del titanic['Pclass'],titanic['Survived']\n",
    "len(titanic)"
   ]
  },
  {
   "cell_type": "code",
   "execution_count": 49,
   "metadata": {},
   "outputs": [],
   "source": [
    "titanic_train = titanic.sample(600)\n",
    "titanic_test = titanic.loc[~titanic.index.isin(titanic_train.index),:]\n",
    "x_train = titanic_train[['Sex','Age','SibSp','Parch',\n",
    "                         'Pclass_1','Pclass_2','Pclass_3']].values\n",
    "y_train = titanic_train.target.values\n",
    "x_test = titanic_test[['Sex','Age','SibSp','Parch',\n",
    "                         'Pclass_1','Pclass_2','Pclass_3']].values\n",
    "y_test = titanic_test.target.values"
   ]
  },
  {
   "cell_type": "code",
   "execution_count": 87,
   "metadata": {},
   "outputs": [],
   "source": [
    "## crear poblacion inicial\n",
    "\n",
    "modelos = []\n",
    "for n in range(10):\n",
    "    for i in range(10):\n",
    "        modelos.append([n,crear_modelo_inicial(n)])\n",
    "modelos = pd.DataFrame(modelos)\n",
    "modelos.columns =['n','model']"
   ]
  },
  {
   "cell_type": "code",
   "execution_count": null,
   "metadata": {},
   "outputs": [
    {
     "name": "stdout",
     "output_type": "stream",
     "text": [
      "Epoch 1/10\n"
     ]
    }
   ],
   "source": [
    "scores = []\n",
    "for model in modelos.model.tolist():\n",
    "    model.fit(x_train, y_train,\n",
    "          epochs=10,\n",
    "          batch_size=128)\n",
    "    score = model.evaluate(x_test, y_test, batch_size=128)\n",
    "    scores.append(score)\n",
    "print(scores)"
   ]
  },
  {
   "cell_type": "code",
   "execution_count": null,
   "metadata": {},
   "outputs": [],
   "source": [
    "u = pd.DataFrame(scores)\n",
    "\n",
    "modelos[['loss','score']] = u\n",
    "\n",
    "modelos.sort_values('score',ascending=False)"
   ]
  },
  {
   "cell_type": "code",
   "execution_count": 73,
   "metadata": {},
   "outputs": [],
   "source": [
    "best_model = modelos.sort_values('score',ascending=False).iloc[0,1]"
   ]
  },
  {
   "cell_type": "code",
   "execution_count": 71,
   "metadata": {},
   "outputs": [],
   "source": [
    "titanic = pd.read_csv('test.csv')\n",
    "titanic = titanic[['Pclass','Sex','Age','SibSp','Parch']]\n",
    "titanic['Pclass_1']=np.where(titanic.Pclass==1,1,0)\n",
    "titanic['Pclass_2']=np.where(titanic.Pclass==2,1,0)\n",
    "titanic['Pclass_3']=np.where(titanic.Pclass==3,1,0)\n",
    "titanic['Sex']=np.where(titanic.Sex=='male',1,0)\n",
    "titanic = titanic.fillna(titanic.mean())\n",
    "titanic[['Age']] = titanic[['Age']]/titanic[['Age']].mean()\n",
    "del titanic['Pclass']\n",
    "\n",
    "\n",
    "\n",
    "\n",
    "\n"
   ]
  },
  {
   "cell_type": "code",
   "execution_count": 74,
   "metadata": {},
   "outputs": [],
   "source": [
    "resultado = pd.read_csv('test.csv')\n",
    "resultado['Survived'] = best_model.predict_classes(titanic)\n",
    "resultado[['PassengerId','Survived']].to_csv('result.csv',index=False)\n"
   ]
  }
 ],
 "metadata": {
  "kernelspec": {
   "display_name": "Python 3",
   "language": "python",
   "name": "python3"
  },
  "language_info": {
   "codemirror_mode": {
    "name": "ipython",
    "version": 3
   },
   "file_extension": ".py",
   "mimetype": "text/x-python",
   "name": "python",
   "nbconvert_exporter": "python",
   "pygments_lexer": "ipython3",
   "version": "3.4.5"
  }
 },
 "nbformat": 4,
 "nbformat_minor": 2
}
