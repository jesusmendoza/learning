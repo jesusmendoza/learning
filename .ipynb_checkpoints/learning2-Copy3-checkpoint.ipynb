{
 "cells": [
  {
   "cell_type": "code",
   "execution_count": 1,
   "metadata": {},
   "outputs": [],
   "source": [
    "import numpy as np\n",
    "import pandas as pd"
   ]
  },
  {
   "cell_type": "code",
   "execution_count": 2,
   "metadata": {},
   "outputs": [],
   "source": [
    "class binary():\n",
    "    def __init__(self,capas=1,nodos=1):\n",
    "        self.capas = capas\n",
    "        self.nodos = nodos\n",
    "        self.forma = (self.capas,self.nodos)\n",
    "    def inicializar(self):\n",
    "        self.red = []\n",
    "        for capa in range(self.capas):\n",
    "            w = np.random.normal(size = (self.nodos,self.nodos))\n",
    "            b = np.random.normal(size = self.nodos)\n",
    "            self.red.append([w,b])\n",
    "        w_f = np.random.normal(size = self.nodos)\n",
    "        b_f = np.random.normal(size = 1)\n",
    "        self.red.append([w_f,b_f])\n",
    "    def mutar(self,alfa=0.1):\n",
    "        red = []\n",
    "        for r in self.red:\n",
    "            r0 = r[0]+alfa*np.random.normal(size = r[0].shape)\n",
    "            r1 = r[1]+alfa*np.random.normal(size = r[1].shape)\n",
    "            red.append([r0,r1])\n",
    "        hijo = binary(self.capas,self.nodos)\n",
    "        hijo.inicializar()\n",
    "        hijo.red = red\n",
    "        return hijo\n",
    "    def cruzar(self,other):\n",
    "        if self.forma == other.forma:\n",
    "            hijo = binary(self.capas,self.nodos)\n",
    "            hijo.inicializar()\n",
    "            red = []\n",
    "            for i in range(len(self.red)):\n",
    "                r0 = (self.red[i][0] + other.red[i][0])/2.0\n",
    "                r1 = (self.red[i][1] + other.red[i][1])/2.0\n",
    "                red.append([r0,r1])\n",
    "            hijo.red = red\n",
    "            return hijo\n",
    "        else:\n",
    "            return None\n",
    "    def sigmoid(self,x):\n",
    "        return 1/(1+np.exp(-x))\n",
    "    def predecir(self,entrada):\n",
    "        for r in self.red:\n",
    "            entrada = np.dot(entrada,r[0])\n",
    "            entrada = entrada + r[1]\n",
    "            entrada = self.sigmoid(entrada)\n",
    "        entrada = entrada.round()\n",
    "        entrada = int(entrada)\n",
    "        return entrada\n",
    "    def evaluar(self,entrada,resultado):\n",
    "        entrada = self.predecir(entrada)\n",
    "        if entrada == resultado:\n",
    "            return 1\n",
    "        return 0     \n",
    "            \n",
    "    "
   ]
  },
  {
   "cell_type": "code",
   "execution_count": 3,
   "metadata": {},
   "outputs": [],
   "source": [
    "def crear_poblacion(poblacion_por_especie,especies,nodos):\n",
    "    poblacion = []\n",
    "    for i in range(poblacion_por_especie):\n",
    "        for j in especies:\n",
    "            individuo = binary(j,nodos)\n",
    "            individuo.inicializar()\n",
    "            poblacion.append(individuo)\n",
    "    return poblacion"
   ]
  },
  {
   "cell_type": "code",
   "execution_count": 4,
   "metadata": {},
   "outputs": [],
   "source": [
    "def evaluar_poblacion(poblacion,muestra):\n",
    "    scores = []\n",
    "    for p in poblacion:\n",
    "        score = 0\n",
    "        count = 0\n",
    "        for r in muestra.iterrows():\n",
    "            v = r[1].target\n",
    "            u = r[1]\n",
    "            del u['target']\n",
    "            score += p.evaluar(u.values,v)\n",
    "            count += 1\n",
    "        score = float(score / float(count))\n",
    "        scores.append(score)\n",
    "    return scores"
   ]
  },
  {
   "cell_type": "code",
   "execution_count": 5,
   "metadata": {},
   "outputs": [],
   "source": [
    "def predecir(best_model,test):\n",
    "    scores = []\n",
    "    for r in test.iterrows():\n",
    "        u = r[1]\n",
    "        score = p.predecir(u)\n",
    "        scores.append(score)\n",
    "    return scores"
   ]
  },
  {
   "cell_type": "code",
   "execution_count": 6,
   "metadata": {},
   "outputs": [
    {
     "data": {
      "text/plain": [
       "Embarked\n",
       "C    168\n",
       "Q     77\n",
       "S    644\n",
       "dtype: int64"
      ]
     },
     "execution_count": 6,
     "metadata": {},
     "output_type": "execute_result"
    }
   ],
   "source": [
    "titanic = pd.read_csv('train.csv')\n",
    "titanic.groupby('Embarked').size()"
   ]
  },
  {
   "cell_type": "code",
   "execution_count": 7,
   "metadata": {},
   "outputs": [
    {
     "data": {
      "text/plain": [
       "891"
      ]
     },
     "execution_count": 7,
     "metadata": {},
     "output_type": "execute_result"
    }
   ],
   "source": [
    "titanic = pd.read_csv('train.csv')\n",
    "titanic = titanic[['Survived','Pclass','Sex','Age','SibSp','Parch','Fare','Embarked']]\n",
    "titanic.loc[titanic.Embarked=='C','Embarked']=-1\n",
    "titanic.loc[titanic.Embarked=='Q','Embarked']=0\n",
    "titanic.loc[titanic.Embarked=='S','Embarked']=1\n",
    "titanic['target'] = titanic.Survived\n",
    "titanic['Pclass_1']=np.where(titanic.Pclass==1,1,0)\n",
    "titanic['Pclass_2']=np.where(titanic.Pclass==2,1,0)\n",
    "titanic['Pclass_3']=np.where(titanic.Pclass==3,1,0)\n",
    "titanic['Sex']=np.where(titanic.Sex=='male',1,0)\n",
    "titanic = titanic.fillna(titanic.mean())\n",
    "titanic[['Age']] = titanic[['Age']]/titanic[['Age']].mean()\n",
    "titanic[['Fare']] = titanic[['Fare']]/titanic[['Fare']].mean()\n",
    "del titanic['Pclass'],titanic['Survived']\n",
    "len(titanic)"
   ]
  },
  {
   "cell_type": "code",
   "execution_count": 8,
   "metadata": {},
   "outputs": [],
   "source": [
    "titanic_train = titanic[titanic.target==0].sample(250)\\\n",
    "                .append(titanic[titanic.target==1].sample(250))\n",
    "titanic_test = titanic.loc[~titanic.index.isin(titanic_train.index),:]\n",
    "\n"
   ]
  },
  {
   "cell_type": "code",
   "execution_count": 9,
   "metadata": {},
   "outputs": [],
   "source": [
    "poblacion = crear_poblacion(1000,[2],9)\n",
    "poblacion = pd.DataFrame(list(zip(poblacion,range(len(poblacion)))))\n",
    "poblacion.columns = ['model','score']"
   ]
  },
  {
   "cell_type": "code",
   "execution_count": null,
   "metadata": {},
   "outputs": [
    {
     "name": "stdout",
     "output_type": "stream",
     "text": [
      "0 0.5010099999999998 0.745 0.8000489612103682\n",
      "1 0.48645999999999995 0.725 0.3517087576695953\n",
      "2 0.5259950000000001 0.73 0.031398843316631564\n",
      "3 0.5102 0.76 0.6104045519939534\n",
      "4 0.5313450000000001 0.765 0.2277447253258097\n",
      "5 0.543865 0.765 0.8601370677221012\n",
      "6 0.5608150000000001 0.78 0.1927868449914082\n",
      "7 0.5795799999999999 0.79 0.7138631488813734\n",
      "8 0.597215 0.775 0.9821882033667865\n",
      "9 0.5748900000000001 0.76 0.08001143602873062\n",
      "10 0.5971400000000001 0.78 0.6963432366532617\n",
      "11 0.60627 0.76 0.5994936851690534\n",
      "12 0.6186200000000002 0.77 0.5603203238885995\n",
      "13 0.637925 0.825 0.05851136769073906\n",
      "14 0.6319150000000001 0.795 0.8027849578935518\n",
      "15 0.618875 0.76 0.8520693160084\n",
      "16 0.6285250000000001 0.78 0.5299626724547235\n",
      "17 0.65516 0.815 0.08526656478755834\n",
      "18 0.6382899999999999 0.795 0.8868432375839211\n",
      "19 0.657335 0.81 0.34012095436898393\n",
      "20 0.65601 0.8 0.8963136041148514\n",
      "21 0.6695650000000001 0.805 0.35239444668443853\n",
      "22 0.6816949999999999 0.865 0.602467690737274\n",
      "23 0.66291 0.81 0.6994724169096268\n",
      "24 0.6819749999999999 0.805 0.19895504392777164\n",
      "25 0.688435 0.825 0.6642338873518134\n",
      "26 0.6768699999999999 0.795 0.12364895929281905\n",
      "27 0.715935 0.855 0.6750597188627666\n",
      "28 0.690155 0.825 0.7141671852350734\n",
      "29 0.683155 0.835 0.4312975128674196\n",
      "30 0.68255 0.785 0.08649145312305351\n",
      "31 0.7045549999999999 0.815 0.6682417790509751\n",
      "32 0.71923 0.835 0.08204303304124938\n",
      "33 0.7085750000000001 0.81 0.0703602541145052\n",
      "34 0.710095 0.81 0.7112021019276\n",
      "35 0.7162750000000001 0.82 0.5986626512264962\n",
      "36 0.7136699999999999 0.805 0.7158875679457118\n",
      "37 0.743415 0.84 0.3070739508332373\n",
      "38 0.7111350000000001 0.805 0.812295865754591\n",
      "39 0.737155 0.83 0.9297600955645641\n",
      "40 0.7304400000000001 0.815 0.6610724199445316\n",
      "41 0.7619000000000001 0.855 0.41736457432206664\n",
      "42 0.73255 0.81 0.31809766473443857\n",
      "43 0.732625 0.82 0.4122783331471318\n",
      "44 0.761295 0.85 0.09533667224106435\n",
      "45 0.7505 0.83 0.38877034603685534\n",
      "46 0.739795 0.825 0.642086646475521\n",
      "47 0.7401449999999999 0.815 0.1851615575449359\n",
      "48 0.77381 0.855 0.31099258215733294\n",
      "49 0.771575 0.86 0.594068072115093\n",
      "50 0.7455499999999999 0.84 0.9835765678386379\n",
      "51 0.7730499999999999 0.84 0.7962302689803524\n",
      "52 0.7815250000000001 0.86 0.29978219651614124\n",
      "53 0.767505 0.84 0.012400298842420554\n",
      "54 0.7627700000000001 0.83 0.9550091774860454\n",
      "55 0.7590450000000001 0.825 0.014983602705643029\n",
      "56 0.775165 0.845 0.39272065192199335\n",
      "57 0.770785 0.835 0.4728557318853558\n",
      "58 0.77013 0.835 0.6516005427225342\n",
      "59 0.79548 0.865 0.8060167420256062\n",
      "60 0.75627 0.825 0.6857164359224667\n",
      "61 0.7537050000000001 0.82 0.9722033649915166\n",
      "62 0.77917 0.85 0.22677317200196967\n",
      "63 0.7704200000000001 0.825 0.3383219743095084\n",
      "64 0.7654 0.825 0.18505783882865823\n",
      "65 0.7888249999999999 0.85 0.33790830370213487\n",
      "66 0.7686100000000001 0.82 0.2517558201398915\n",
      "67 0.75421 0.82 0.20591936301613822\n",
      "68 0.79577 0.87 0.9840550083769215\n",
      "69 0.788365 0.855 0.06276959244448799\n",
      "70 0.7737550000000001 0.83 0.6098675415268527\n",
      "71 0.7986400000000001 0.85 0.3761148986787979\n",
      "72 0.793545 0.85 0.23556641616202856\n",
      "73 0.7589100000000001 0.81 0.787141226712253\n",
      "74 0.7612899999999999 0.82 0.9285475652447159\n",
      "75 0.7569400000000001 0.82 0.4985578122844079\n",
      "76 0.74024 0.805 0.42160748418109806\n",
      "77 0.7772899999999999 0.84 0.9561993577678954\n",
      "78 0.7826899999999999 0.845 0.8165545707261257\n",
      "79 0.7764500000000001 0.825 0.44611323832183625\n",
      "80 0.7516600000000001 0.82 0.33426620880208935\n",
      "81 0.779405 0.83 0.7599170122133493\n",
      "82 0.783065 0.83 0.6722806907599866\n",
      "83 0.775575 0.835 0.18054902893829106\n",
      "84 0.80804 0.86 0.38543835723973574\n",
      "85 0.7951800000000001 0.845 0.4099358331756794\n",
      "86 0.80822 0.855 0.4285214329424195\n",
      "87 0.7869400000000001 0.84 0.6695234150111274\n",
      "88 0.7669300000000001 0.825 0.9161633552494266\n",
      "89 0.79313 0.84 0.7997665819556558\n",
      "90 0.796585 0.845 0.15173933332275358\n",
      "91 0.8106300000000001 0.86 0.192297490883239\n",
      "92 0.795615 0.84 0.9691100088259538\n",
      "93 0.783115 0.83 0.13873194440991898\n",
      "94 0.790875 0.845 0.9077956372014658\n",
      "95 0.8108350000000001 0.86 0.004825706140878516\n"
     ]
    }
   ],
   "source": [
    "alfa = 2\n",
    "for i in range(1000):\n",
    "    alfa = np.random.random()\n",
    "    scores = evaluar_poblacion(poblacion.model.tolist(),titanic_train.sample(200))\n",
    "    poblacion.score = scores\n",
    "    print(i,poblacion.score.mean(),poblacion.score.max(),alfa)\n",
    "    poblacion = poblacion.sort_values('score',ascending=False)[0:int(len(poblacion)/2)]\n",
    "    nueva_poblacion = []\n",
    "    alfa = 1\n",
    "    for p in poblacion.model.tolist():\n",
    "        hijo = p.mutar(alfa = alfa)\n",
    "        nueva_poblacion.append(hijo)\n",
    "    nueva_poblacion = pd.DataFrame(list(zip(nueva_poblacion,range(len(nueva_poblacion)))))\n",
    "    nueva_poblacion.columns = ['model','score']\n",
    "    poblacion = poblacion.append(nueva_poblacion).reset_index(drop=True)\n"
   ]
  },
  {
   "cell_type": "code",
   "execution_count": null,
   "metadata": {},
   "outputs": [],
   "source": [
    "scores = evaluar_poblacion(poblacion.model.tolist(),titanic_train)\n",
    "poblacion.score = scores\n",
    "poblacion.sort_values('score',ascending=False)"
   ]
  },
  {
   "cell_type": "code",
   "execution_count": null,
   "metadata": {},
   "outputs": [],
   "source": [
    "best_model = poblacion.sort_values('score',ascending=False).iloc[0,0]"
   ]
  },
  {
   "cell_type": "code",
   "execution_count": null,
   "metadata": {},
   "outputs": [],
   "source": []
  },
  {
   "cell_type": "code",
   "execution_count": null,
   "metadata": {},
   "outputs": [],
   "source": [
    "titanic = pd.read_csv('test.csv')\n",
    "titanic = titanic[['Pclass','Sex','Age','SibSp','Parch','Fare','Embarked']]\n",
    "titanic.loc[titanic.Embarked=='C','Embarked']=-1\n",
    "titanic.loc[titanic.Embarked=='Q','Embarked']=0\n",
    "titanic.loc[titanic.Embarked=='S','Embarked']=1\n",
    "titanic['Pclass_1']=np.where(titanic.Pclass==1,1,0)\n",
    "titanic['Pclass_2']=np.where(titanic.Pclass==2,1,0)\n",
    "titanic['Pclass_3']=np.where(titanic.Pclass==3,1,0)\n",
    "titanic['Sex']=np.where(titanic.Sex=='male',1,0)\n",
    "titanic = titanic.fillna(titanic.mean())\n",
    "titanic[['Age']] = titanic[['Age']]/titanic[['Age']].mean()\n",
    "titanic[['Fare']] = titanic[['Fare']]/titanic[['Fare']].mean()\n",
    "del titanic['Pclass']\n",
    "len(titanic)"
   ]
  },
  {
   "cell_type": "code",
   "execution_count": null,
   "metadata": {},
   "outputs": [],
   "source": [
    "resultado = pd.read_csv('test.csv')\n",
    "resultado['Survived'] = predecir(best_model,titanic)\n",
    "resultado.Survived = resultado.Survived.round().astype(int)\n",
    "resultado[['PassengerId','Survived']].to_csv('result.csv',index=False)"
   ]
  },
  {
   "cell_type": "code",
   "execution_count": null,
   "metadata": {},
   "outputs": [],
   "source": []
  },
  {
   "cell_type": "code",
   "execution_count": null,
   "metadata": {},
   "outputs": [],
   "source": []
  }
 ],
 "metadata": {
  "kernelspec": {
   "display_name": "Python 3",
   "language": "python",
   "name": "python3"
  },
  "language_info": {
   "codemirror_mode": {
    "name": "ipython",
    "version": 3
   },
   "file_extension": ".py",
   "mimetype": "text/x-python",
   "name": "python",
   "nbconvert_exporter": "python",
   "pygments_lexer": "ipython3",
   "version": "3.4.5"
  }
 },
 "nbformat": 4,
 "nbformat_minor": 2
}
