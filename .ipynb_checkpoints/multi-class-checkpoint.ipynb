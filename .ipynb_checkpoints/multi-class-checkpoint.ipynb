{
 "cells": [
  {
   "cell_type": "code",
   "execution_count": 54,
   "metadata": {},
   "outputs": [],
   "source": [
    "import numpy as np\n",
    "import pandas as pd"
   ]
  },
  {
   "cell_type": "code",
   "execution_count": 55,
   "metadata": {},
   "outputs": [],
   "source": [
    "class multiclass():\n",
    "    def __init__(self,input = 3, capas=1,nodos=1,clases = 3):\n",
    "        self.capas = capas\n",
    "        self.nodos = nodos\n",
    "        self.forma = (self.capas,self.nodos)\n",
    "        self.clases = clases\n",
    "        self.input = input\n",
    "    def inicializar(self):\n",
    "        w = np.random.normal(size = (self.input,self.nodos))\n",
    "        b = np.random.normal(size = self.nodos)\n",
    "        self.red.append([w,b])\n",
    "        for capa in range(self.capas):\n",
    "            w = np.random.normal(size = (self.nodos,self.nodos))\n",
    "            b = np.random.normal(size = self.nodos)\n",
    "            self.red.append([w,b])\n",
    "        w_f = np.random.normal(size = [self.nodos,self.clases])\n",
    "        b_f = np.random.normal(size = self.clases)\n",
    "        self.red.append([w_f,b_f])\n",
    "    def mutar(self,alfa=0.1):\n",
    "        red = []\n",
    "        for r in self.red:\n",
    "            r0 = r[0]+alfa*np.random.normal(size = r[0].shape)\n",
    "            r1 = r[1]+alfa*np.random.normal(size = r[1].shape)\n",
    "            red.append([r0,r1])\n",
    "        hijo = multiclass(self.capas,self.nodos)\n",
    "        hijo.inicializar()\n",
    "        hijo.red = red\n",
    "        return hijo\n",
    "    def cruzar(self,other):\n",
    "        if self.forma == other.forma:\n",
    "            hijo = multiclass(self.capas,self.nodos)\n",
    "            hijo.inicializar()\n",
    "            red = []\n",
    "            for i in range(len(self.red)):\n",
    "                r0 = (self.red[i][0] + other.red[i][0])/2.0\n",
    "                r1 = (self.red[i][1] + other.red[i][1])/2.0\n",
    "                red.append([r0,r1])\n",
    "            hijo.red = red\n",
    "            return hijo\n",
    "        else:\n",
    "            return None\n",
    "    def sigmoid(self,x):\n",
    "        return 1/(1+np.exp(-x))\n",
    "    def softmax(self,x):\n",
    "        x = np.exp(x)/(np.exp(x).sum())\n",
    "        return x\n",
    "    def predecir(self,entrada):\n",
    "        for rr in range(len(self.red)):\n",
    "            r = self.red[rr]\n",
    "            entrada = np.dot(entrada,r[0])\n",
    "            entrada = entrada + r[1]\n",
    "            entrada = self.sigmoid(entrada)\n",
    "        entrada = self.softmax(entrada)\n",
    "        entrada = entrada.argmax()\n",
    "        return entrada\n",
    "    def evaluar(self,entrada,resultado):\n",
    "        entrada = self.predecir(entrada)\n",
    "        if float(entrada) == float(resultado):\n",
    "            return 1\n",
    "        return 0\n",
    "\n",
    "        \n",
    "            \n",
    "    "
   ]
  },
  {
   "cell_type": "code",
   "execution_count": 56,
   "metadata": {},
   "outputs": [],
   "source": [
    "def crear_poblacion(poblacion_por_especie,especies,nodos,clases):\n",
    "    poblacion = []\n",
    "    for i in range(poblacion_por_especie):\n",
    "        for j in especies:\n",
    "            individuo = multiclass(j,nodos,clases)\n",
    "            individuo.inicializar()\n",
    "            poblacion.append(individuo)\n",
    "    return poblacion"
   ]
  },
  {
   "cell_type": "code",
   "execution_count": 57,
   "metadata": {},
   "outputs": [],
   "source": [
    "def evaluar_poblacion(poblacion,muestra):\n",
    "    scores = []\n",
    "    for p in poblacion:\n",
    "        score = 0\n",
    "        count = 0\n",
    "        for r in muestra.iterrows():\n",
    "            v = r[1].target\n",
    "            u = r[1]\n",
    "            del u['target']\n",
    "            score += p.evaluar(u.values,v)\n",
    "            count += 1\n",
    "        score = float(score / float(count))\n",
    "        scores.append(score)\n",
    "    return scores"
   ]
  },
  {
   "cell_type": "code",
   "execution_count": 58,
   "metadata": {},
   "outputs": [],
   "source": [
    "def predecir(best_model,test):\n",
    "    scores = []\n",
    "    for r in test.iterrows():\n",
    "        u = r[1]\n",
    "        score = p.predecir(u)\n",
    "        scores.append(score)\n",
    "    return scores"
   ]
  },
  {
   "cell_type": "code",
   "execution_count": 59,
   "metadata": {},
   "outputs": [],
   "source": [
    "titanic = pd.read_csv('mnist/train.csv')\n",
    "titanic = titanic.rename(columns={'label':'target'})\n"
   ]
  },
  {
   "cell_type": "code",
   "execution_count": 60,
   "metadata": {},
   "outputs": [
    {
     "data": {
      "text/plain": [
       "0    1\n",
       "1    0\n",
       "2    1\n",
       "3    4\n",
       "4    0\n",
       "Name: target, dtype: int64"
      ]
     },
     "execution_count": 60,
     "metadata": {},
     "output_type": "execute_result"
    }
   ],
   "source": [
    "titanic.target.head()"
   ]
  },
  {
   "cell_type": "code",
   "execution_count": 61,
   "metadata": {},
   "outputs": [],
   "source": [
    "titanic_train = titanic.sample(38000)\n",
    "titanic_test = titanic.loc[~titanic.index.isin(titanic_train.index),:]\n",
    "\n"
   ]
  },
  {
   "cell_type": "code",
   "execution_count": 62,
   "metadata": {},
   "outputs": [
    {
     "data": {
      "text/plain": [
       "10580    1\n",
       "18164    2\n",
       "1988     0\n",
       "2529     4\n",
       "36424    2\n",
       "Name: target, dtype: int64"
      ]
     },
     "execution_count": 62,
     "metadata": {},
     "output_type": "execute_result"
    }
   ],
   "source": [
    "titanic_train.target.head()"
   ]
  },
  {
   "cell_type": "code",
   "execution_count": 63,
   "metadata": {},
   "outputs": [],
   "source": [
    "poblacion = crear_poblacion(1000,[0],784,10)\n",
    "poblacion = pd.DataFrame(list(zip(poblacion,range(len(poblacion)))))\n",
    "poblacion.columns = ['model','score']"
   ]
  },
  {
   "cell_type": "code",
   "execution_count": null,
   "metadata": {},
   "outputs": [
    {
     "name": "stderr",
     "output_type": "stream",
     "text": [
      "/home/jesus/anaconda3/envs/tensorflow/lib/python3.4/site-packages/ipykernel_launcher.py:40: RuntimeWarning: overflow encountered in exp\n"
     ]
    },
    {
     "name": "stdout",
     "output_type": "stream",
     "text": [
      "0 0.10039000000000001 0.22 2\n",
      "1 0.11818000000000001 0.24 1\n",
      "2 0.12808 0.225 1\n",
      "3 0.13013500000000003 0.215 1\n",
      "4 0.148345 0.235 1\n",
      "5 0.184445 0.28 1\n",
      "6 0.20132499999999998 0.32 1\n",
      "7 0.17432 0.275 1\n",
      "8 0.15644 0.24 1\n",
      "9 0.16022 0.275 1\n",
      "10 0.21838 0.3 1\n",
      "11 0.16754500000000003 0.275 1\n",
      "12 0.222225 0.3 1\n",
      "13 0.192555 0.275 1\n",
      "14 0.200125 0.305 1\n",
      "15 0.18176499999999998 0.28 1\n",
      "16 0.273975 0.37 1\n",
      "17 0.23407 0.32 1\n",
      "18 0.28258500000000003 0.35 1\n",
      "19 0.24208499999999997 0.33 1\n",
      "20 0.21097 0.29 1\n",
      "21 0.22963499999999998 0.31 1\n",
      "22 0.220835 0.295 1\n",
      "23 0.22454000000000002 0.32 1\n",
      "24 0.26598 0.345 1\n",
      "25 0.20663499999999999 0.3 1\n",
      "26 0.25911 0.35 1\n",
      "27 0.26463 0.35 1\n",
      "28 0.23962999999999998 0.305 1\n",
      "29 0.28534000000000004 0.375 1\n",
      "30 0.24591000000000002 0.35 1\n",
      "31 0.23628 0.34 1\n",
      "32 0.266495 0.39 1\n",
      "33 0.308445 0.415 1\n",
      "34 0.28857000000000005 0.365 1\n",
      "35 0.29777 0.38 1\n",
      "36 0.28247500000000003 0.38 1\n",
      "37 0.31342000000000003 0.39 1\n",
      "38 0.25314000000000003 0.34 1\n",
      "39 0.263565 0.37 1\n",
      "40 0.28665 0.385 1\n",
      "41 0.314105 0.435 1\n",
      "42 0.287275 0.395 1\n",
      "43 0.33562000000000003 0.415 1\n",
      "44 0.333745 0.42 1\n",
      "45 0.29658000000000007 0.375 1\n",
      "46 0.32555999999999996 0.43 1\n",
      "47 0.34926 0.425 1\n",
      "48 0.30033000000000004 0.39 1\n",
      "49 0.33554999999999996 0.415 1\n",
      "50 0.365745 0.455 1\n",
      "51 0.36961 0.445 1\n",
      "52 0.332125 0.43 1\n",
      "53 0.360065 0.44 1\n",
      "54 0.323515 0.395 1\n",
      "55 0.39261 0.475 1\n",
      "56 0.321865 0.425 1\n",
      "57 0.37972500000000003 0.475 1\n",
      "58 0.358175 0.45 1\n",
      "59 0.37313 0.45 1\n",
      "60 0.34348500000000004 0.435 1\n",
      "61 0.329765 0.39 1\n",
      "62 0.36672000000000005 0.445 1\n",
      "63 0.331345 0.42 1\n",
      "64 0.36886 0.455 1\n",
      "65 0.353185 0.44 1\n",
      "66 0.370395 0.445 1\n",
      "67 0.40049 0.53 1\n",
      "68 0.440595 0.535 1\n",
      "69 0.35335 0.435 1\n",
      "70 0.36125 0.44 1\n",
      "71 0.3647 0.435 1\n",
      "72 0.44827999999999996 0.545 1\n",
      "73 0.395385 0.475 1\n",
      "74 0.36845500000000003 0.465 1\n",
      "75 0.423005 0.52 1\n",
      "76 0.441465 0.525 1\n",
      "77 0.41646 0.5 1\n",
      "78 0.38165 0.45 1\n",
      "79 0.39034 0.45 1\n",
      "80 0.37608 0.445 1\n",
      "81 0.45965 0.535 1\n",
      "82 0.394225 0.475 1\n",
      "83 0.41087 0.47 1\n",
      "84 0.39366999999999996 0.47 1\n",
      "85 0.40888 0.47 1\n",
      "86 0.39694999999999997 0.46 1\n",
      "87 0.437515 0.51 1\n",
      "88 0.40058000000000005 0.465 1\n",
      "89 0.377065 0.465 1\n",
      "90 0.410875 0.475 1\n",
      "91 0.45369000000000004 0.555 1\n",
      "92 0.47711 0.56 1\n",
      "93 0.413165 0.48 1\n",
      "94 0.43722000000000005 0.51 1\n",
      "95 0.44488 0.52 1\n",
      "96 0.46462 0.54 1\n",
      "97 0.495375 0.565 1\n",
      "98 0.40438 0.485 1\n",
      "99 0.42109 0.49 1\n",
      "100 0.45922500000000005 0.53 1\n",
      "101 0.39993000000000006 0.48 1\n",
      "102 0.42685500000000004 0.505 1\n",
      "103 0.45842 0.54 1\n",
      "104 0.43320000000000003 0.505 1\n",
      "105 0.41627 0.485 1\n",
      "106 0.48073 0.55 1\n",
      "107 0.427375 0.5 1\n",
      "108 0.441735 0.52 1\n",
      "109 0.42305499999999996 0.49 1\n"
     ]
    }
   ],
   "source": [
    "alfa = 2\n",
    "for i in range(1000):\n",
    "    scores = evaluar_poblacion(poblacion.model.tolist(),titanic_train.sample(200))\n",
    "    poblacion.score = scores\n",
    "    print(i,poblacion.score.mean(),poblacion.score.max(),alfa)\n",
    "    poblacion = poblacion.sort_values('score',ascending=False)[0:int(len(poblacion)/2)]\n",
    "    nueva_poblacion = []\n",
    "    alfa = 1\n",
    "    for p in poblacion.model.tolist():\n",
    "        hijo = p.mutar(alfa = alfa)\n",
    "        nueva_poblacion.append(hijo)\n",
    "    nueva_poblacion = pd.DataFrame(list(zip(nueva_poblacion,range(len(nueva_poblacion)))))\n",
    "    nueva_poblacion.columns = ['model','score']\n",
    "    poblacion = poblacion.append(nueva_poblacion).reset_index(drop=True)\n"
   ]
  },
  {
   "cell_type": "code",
   "execution_count": null,
   "metadata": {},
   "outputs": [],
   "source": [
    "scores = evaluar_poblacion(poblacion.model.tolist(),titanic_train)\n",
    "poblacion.score = scores\n",
    "poblacion.sort_values('score',ascending=False)"
   ]
  },
  {
   "cell_type": "code",
   "execution_count": null,
   "metadata": {},
   "outputs": [],
   "source": [
    "best_model = poblacion.sort_values('score').iloc[0,0]"
   ]
  },
  {
   "cell_type": "code",
   "execution_count": null,
   "metadata": {},
   "outputs": [],
   "source": []
  },
  {
   "cell_type": "code",
   "execution_count": null,
   "metadata": {},
   "outputs": [],
   "source": [
    "titanic = pd.read_csv('mnist/test.csv')\n"
   ]
  },
  {
   "cell_type": "code",
   "execution_count": null,
   "metadata": {},
   "outputs": [],
   "source": [
    "titanic.head()"
   ]
  },
  {
   "cell_type": "code",
   "execution_count": null,
   "metadata": {},
   "outputs": [],
   "source": [
    "resultado = pd.read_csv('mnist/test.csv')\n",
    "scores = predecir(best_model,titanic)\n",
    "resultado['Label'] = scores\n",
    "resultado.Label = resultado.Label.round().astype(int)\n",
    "resultado['ImageId']=list(range(1,len(resultado)+1))\n",
    "\n",
    "resultado[['ImageId','Label']].to_csv('mnist/result.csv',index=False)"
   ]
  },
  {
   "cell_type": "code",
   "execution_count": null,
   "metadata": {},
   "outputs": [],
   "source": []
  },
  {
   "cell_type": "code",
   "execution_count": null,
   "metadata": {},
   "outputs": [],
   "source": []
  }
 ],
 "metadata": {
  "kernelspec": {
   "display_name": "Python 3",
   "language": "python",
   "name": "python3"
  },
  "language_info": {
   "codemirror_mode": {
    "name": "ipython",
    "version": 3
   },
   "file_extension": ".py",
   "mimetype": "text/x-python",
   "name": "python",
   "nbconvert_exporter": "python",
   "pygments_lexer": "ipython3",
   "version": "3.4.5"
  }
 },
 "nbformat": 4,
 "nbformat_minor": 2
}
