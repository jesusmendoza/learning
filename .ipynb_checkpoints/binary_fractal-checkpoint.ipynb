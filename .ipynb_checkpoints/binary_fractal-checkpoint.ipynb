{
 "cells": [
  {
   "cell_type": "code",
   "execution_count": 2,
   "metadata": {},
   "outputs": [],
   "source": [
    "import numpy as np\n",
    "import pandas as pd"
   ]
  },
  {
   "cell_type": "code",
   "execution_count": 99,
   "metadata": {},
   "outputs": [],
   "source": [
    "class binary():\n",
    "    def __init__(self,capas=1,nodos=1):\n",
    "        self.capas = capas\n",
    "        self.nodos = nodos\n",
    "        self.forma = (self.capas,self.nodos)\n",
    "    def inicializar(self):\n",
    "        self.red = []\n",
    "        for capa in range(self.capas):\n",
    "            w = np.random.normal(size = (self.nodos,self.nodos))\n",
    "            b = np.random.normal(size = self.nodos)\n",
    "            self.red.append([w,b])\n",
    "        w_f = np.random.normal(size = self.nodos)\n",
    "        b_f = np.random.normal(size = 1)\n",
    "        self.red.append([w_f,b_f])\n",
    "    def mutar(self,alfa=0.1):\n",
    "        red = []\n",
    "        for r in self.red:\n",
    "            r0 = r[0]+alfa*np.random.normal(size = r[0].shape)\n",
    "            r1 = r[1]+alfa*np.random.normal(size = r[1].shape)\n",
    "            red.append([r0,r1])\n",
    "        hijo = binary(self.capas,self.nodos)\n",
    "        hijo.inicializar()\n",
    "        hijo.red = red\n",
    "        return hijo\n",
    "    def cruzar(self,other):\n",
    "        if self.forma == other.forma:\n",
    "            hijo = binary(self.capas,self.nodos)\n",
    "            hijo.inicializar()\n",
    "            red = []\n",
    "            for i in range(len(self.red)):\n",
    "                r0 = (self.red[i][0] + other.red[i][0])/2.0\n",
    "                r1 = (self.red[i][1] + other.red[i][1])/2.0\n",
    "                red.append([r0,r1])\n",
    "            hijo.red = red\n",
    "            return hijo\n",
    "        else:\n",
    "            return None\n",
    "    def clonar(self):\n",
    "        hijo = binary(self.capas,self.nodos)\n",
    "        hijo.inicializar()\n",
    "        red = []\n",
    "        for i in range(len(self.red)):\n",
    "            r0 = self.red[i][0]\n",
    "            r1 = self.red[i][1]\n",
    "            red.append([r0,r1])\n",
    "        hijo.red = red\n",
    "        return hijo\n",
    "    def sumar(self,other):\n",
    "        for i in range(len(self.red)):\n",
    "            self.red[i][0] += other.red[i][0]\n",
    "            self.red[i][1] += other.red[i][1]\n",
    "    def normalizar(self,n_pasos):\n",
    "        for i in range(len(self.red)):\n",
    "            self.red[i][0] /= n_pasos\n",
    "            self.red[i][1] /= n_pasos\n",
    "    def distancia(self,other):\n",
    "        if self.forma == other.forma:\n",
    "            distancia = 0\n",
    "            for i in range(len(self.red)):\n",
    "                r0 = (self.red[i][0] - other.red[i][0])**2\n",
    "                r1 = (self.red[i][1] - other.red[i][1])**2\n",
    "                distancia = distancia + r0.sum().sum()+r1.sum().sum()\n",
    "                distancia = np.sqrt(distancia)\n",
    "            return distancia\n",
    "        else:\n",
    "            return None\n",
    "    def norma(self):\n",
    "        if True:\n",
    "            distancia = 0\n",
    "            for i in range(len(self.red)):\n",
    "                r0 = (self.red[i][0])**2\n",
    "                r1 = (self.red[i][1])**2\n",
    "                distancia = distancia + r0.sum().sum()+r1.sum().sum()\n",
    "                distancia = np.sqrt(distancia)\n",
    "            return distancia\n",
    "        else:\n",
    "            return None\n",
    "        \n",
    "    def sigmoid(self,x):\n",
    "        return 1/(1+np.exp(-x))\n",
    "    \n",
    "    def predecir(self,entrada):\n",
    "        for r in self.red:\n",
    "            entrada = np.dot(entrada,r[0])\n",
    "            entrada = entrada + r[1]\n",
    "            entrada = self.sigmoid(entrada)\n",
    "        entrada = entrada.round()\n",
    "        entrada = int(entrada)\n",
    "        return entrada\n",
    "    def evaluar(self,muestra):\n",
    "        target = muestra.target\n",
    "        u = muestra.columns.tolist()\n",
    "        v = []\n",
    "        for i in u:\n",
    "            if i != 'target':\n",
    "                v.append(i)\n",
    "        entrada = muestra.loc[:,v].values.tolist()\n",
    "        resultado = target.tolist()\n",
    "        suma = 0\n",
    "        cuenta = 0\n",
    "        for i in range(len(entrada)):\n",
    "            u = self.predecir(entrada[i])\n",
    "            v = resultado[i]\n",
    "            if u == v:\n",
    "                suma += 1\n",
    "            cuenta += 1\n",
    "        u = float(suma)/float(cuenta)\n",
    "        return u  \n",
    "    def razon(self,other,n_pasos):\n",
    "        if self.forma == other.forma:\n",
    "            hijo = binary(self.capas,self.nodos)\n",
    "            hijo.inicializar()\n",
    "            red = []\n",
    "            for i in range(len(self.red)):\n",
    "                r0 = (self.red[i][0] + n_pasos*other.red[i][0])/(1+n_pasos)\n",
    "                r1 = (self.red[i][1] + n_pasos*other.red[i][1])/(1+n_pasos)\n",
    "                red.append([r0,r1])\n",
    "            hijo.red = red\n",
    "            return hijo       \n",
    "            "
   ]
  },
  {
   "cell_type": "code",
   "execution_count": 106,
   "metadata": {},
   "outputs": [],
   "source": [
    "def crear_traza(individuo,n_pasos,muestra,n_sample,alfa=0.1):\n",
    "    ''' Devuelve el mejor individuo, el individuo promedio y el ranking\n",
    "    tanto del mejor individuo como del promedio'''\n",
    "    prediccion_traza = 0\n",
    "    mejor_individuo = individuo.clonar()\n",
    "    traza = individuo.clonar()\n",
    "    individuo_ = individuo.clonar()\n",
    "    mejor_prediccion = mejor_individuo.evaluar(muestra.sample(n_sample))\n",
    "    for i in range(n_pasos):\n",
    "        hijo = individuo.mutar(alfa)\n",
    "        prediccion = hijo.evaluar(muestra.sample(n_sample))\n",
    "        if prediccion > mejor_prediccion:\n",
    "            mejor_prediccion = prediccion\n",
    "            mejor_individuo = hijo.clonar()\n",
    "        prediccion_traza += prediccion\n",
    "        individuo = hijo.clonar()\n",
    "        traza.sumar(hijo)\n",
    "    prediccion_traza = prediccion_traza/float(n_pasos)\n",
    "    traza.razon(individuo_,n_pasos)\n",
    "    return mejor_prediccion, mejor_individuo, prediccion_traza, traza"
   ]
  },
  {
   "cell_type": "code",
   "execution_count": 5,
   "metadata": {},
   "outputs": [],
   "source": [
    "titanic = pd.read_csv('train.csv')\n",
    "titanic.groupby('Embarked').size()\n",
    "titanic = pd.read_csv('train.csv')\n",
    "titanic = titanic[['Survived','Pclass','Sex','Age','SibSp','Parch','Fare','Embarked']]\n",
    "titanic.loc[titanic.Embarked=='C','Embarked']=-1\n",
    "titanic.loc[titanic.Embarked=='Q','Embarked']=0\n",
    "titanic.loc[titanic.Embarked=='S','Embarked']=1\n",
    "titanic['target'] = titanic.Survived\n",
    "titanic['Pclass_1']=np.where(titanic.Pclass==1,1,0)\n",
    "titanic['Pclass_2']=np.where(titanic.Pclass==2,1,0)\n",
    "titanic['Pclass_3']=np.where(titanic.Pclass==3,1,0)\n",
    "titanic['Sex']=np.where(titanic.Sex=='male',1,0)\n",
    "titanic = titanic.fillna(titanic.mean())\n",
    "titanic[['Age']] = titanic[['Age']]/titanic[['Age']].mean()\n",
    "titanic[['Fare']] = titanic[['Fare']]/titanic[['Fare']].mean()\n",
    "del titanic['Pclass'],titanic['Survived']\n"
   ]
  },
  {
   "cell_type": "code",
   "execution_count": 6,
   "metadata": {},
   "outputs": [],
   "source": [
    "titanic_train = titanic[titanic.target==0].sample(250)\\\n",
    "                .append(titanic[titanic.target==1].sample(250))\n",
    "titanic_test = titanic.loc[~titanic.index.isin(titanic_train.index),:]"
   ]
  },
  {
   "cell_type": "code",
   "execution_count": 107,
   "metadata": {},
   "outputs": [],
   "source": [
    "individuo = binary(3,9)\n",
    "individuo.inicializar()"
   ]
  },
  {
   "cell_type": "code",
   "execution_count": null,
   "metadata": {},
   "outputs": [
    {
     "name": "stdout",
     "output_type": "stream",
     "text": [
      "mejor_prediccion 0.84 mejor_tprediccion 0.6951\n",
      "5.261935168959585\n",
      "mejor_prediccion 0.84 mejor_tprediccion 0.6891000000000002\n",
      "5.404112076720847\n",
      "mejor_prediccion 0.84 mejor_tprediccion 0.7021999999999999\n",
      "5.202170122954958\n",
      "mejor_prediccion 0.84 mejor_tprediccion 0.7051\n",
      "5.4063828243113585\n",
      "mejor_prediccion 0.85 mejor_tprediccion 0.6988999999999997\n",
      "5.724494983287382\n",
      "mejor_prediccion 0.88 mejor_tprediccion 0.7302999999999998\n",
      "6.244725669507205\n",
      "mejor_prediccion 0.88 mejor_tprediccion 0.6996999999999997\n",
      "6.81331483731692\n",
      "mejor_prediccion 0.88 mejor_tprediccion 0.7024999999999999\n",
      "7.806144933225588\n",
      "mejor_prediccion 0.88 mejor_tprediccion 0.6964999999999999\n",
      "7.145746520507901\n",
      "mejor_prediccion 0.88 mejor_tprediccion 0.7232000000000001\n",
      "7.49203571807634\n",
      "mejor_prediccion 0.88 mejor_tprediccion 0.7205999999999999\n",
      "8.47349033170797\n",
      "mejor_prediccion 0.88 mejor_tprediccion 0.7228999999999999\n",
      "8.41188376628139\n"
     ]
    }
   ],
   "source": [
    "mejor_prediccion = 0\n",
    "n=30\n",
    "for i in range(1000):\n",
    "    mejor_tprediccion = 0\n",
    "    \n",
    "    for i in range(100):\n",
    "        mp,mi,pt,t = crear_traza(individuo,100,titanic_train,100,alfa = 0.05)\n",
    "        if mp > mejor_prediccion:\n",
    "            mejor_prediccion = mp\n",
    "            mejor_individuo = mi.clonar()\n",
    "            \n",
    "        if mejor_tprediccion < pt:\n",
    "            mejor_tprediccion = pt\n",
    "            mejor_traza = t.clonar()\n",
    "    print('mejor_prediccion',mejor_prediccion,'mejor_tprediccion',mejor_tprediccion)\n",
    "    print(individuo.norma())\n",
    "    individuo = mejor_traza.clonar()"
   ]
  },
  {
   "cell_type": "code",
   "execution_count": 237,
   "metadata": {
    "collapsed": true
   },
   "outputs": [],
   "source": [
    "p = poblacion[0]"
   ]
  },
  {
   "cell_type": "code",
   "execution_count": 115,
   "metadata": {},
   "outputs": [],
   "source": [
    "best_model = mejor_traza\n"
   ]
  },
  {
   "cell_type": "code",
   "execution_count": 116,
   "metadata": {},
   "outputs": [
    {
     "data": {
      "text/plain": [
       "0.8081841432225064"
      ]
     },
     "execution_count": 116,
     "metadata": {},
     "output_type": "execute_result"
    }
   ],
   "source": [
    "best_model.evaluar(titanic_test)"
   ]
  },
  {
   "cell_type": "code",
   "execution_count": null,
   "metadata": {
    "collapsed": true
   },
   "outputs": [],
   "source": [
    "titanic = pd.read_csv('test.csv')\n",
    "titanic = titanic[['Pclass','Sex','Age','SibSp','Parch','Fare','Embarked']]\n",
    "titanic.loc[titanic.Embarked=='C','Embarked']=-1\n",
    "titanic.loc[titanic.Embarked=='Q','Embarked']=0\n",
    "titanic.loc[titanic.Embarked=='S','Embarked']=1\n",
    "titanic['Pclass_1']=np.where(titanic.Pclass==1,1,0)\n",
    "titanic['Pclass_2']=np.where(titanic.Pclass==2,1,0)\n",
    "titanic['Pclass_3']=np.where(titanic.Pclass==3,1,0)\n",
    "titanic['Sex']=np.where(titanic.Sex=='male',1,0)\n",
    "titanic = titanic.fillna(titanic.mean())\n",
    "titanic[['Age']] = titanic[['Age']]/titanic[['Age']].mean()\n",
    "titanic[['Fare']] = titanic[['Fare']]/titanic[['Fare']].mean()\n",
    "del titanic['Pclass']"
   ]
  },
  {
   "cell_type": "code",
   "execution_count": null,
   "metadata": {
    "collapsed": true
   },
   "outputs": [],
   "source": [
    "scores = []\n",
    "for index, row in titanic.iterrows():\n",
    "    scores.append(mejor_p.predecir(row.values))\n"
   ]
  },
  {
   "cell_type": "code",
   "execution_count": null,
   "metadata": {
    "collapsed": true
   },
   "outputs": [],
   "source": [
    "resultado = pd.read_csv('test.csv')\n",
    "resultado['Survived'] = scores\n",
    "resultado.Survived = resultado.Survived.round().astype(int)\n",
    "resultado[['PassengerId','Survived']].to_csv('result.csv',index=False)"
   ]
  },
  {
   "cell_type": "code",
   "execution_count": null,
   "metadata": {
    "collapsed": true
   },
   "outputs": [],
   "source": []
  }
 ],
 "metadata": {
  "kernelspec": {
   "display_name": "Python 3",
   "language": "python",
   "name": "python3"
  },
  "language_info": {
   "codemirror_mode": {
    "name": "ipython",
    "version": 3
   },
   "file_extension": ".py",
   "mimetype": "text/x-python",
   "name": "python",
   "nbconvert_exporter": "python",
   "pygments_lexer": "ipython3",
   "version": "3.4.5"
  }
 },
 "nbformat": 4,
 "nbformat_minor": 2
}
