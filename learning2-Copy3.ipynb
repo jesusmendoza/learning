{
 "cells": [
  {
   "cell_type": "code",
   "execution_count": 1,
   "metadata": {},
   "outputs": [],
   "source": [
    "import numpy as np\n",
    "import pandas as pd"
   ]
  },
  {
   "cell_type": "code",
   "execution_count": 2,
   "metadata": {},
   "outputs": [],
   "source": [
    "class binary():\n",
    "    def __init__(self,capas=1,nodos=1):\n",
    "        self.capas = capas\n",
    "        self.nodos = nodos\n",
    "        self.forma = (self.capas,self.nodos)\n",
    "    def inicializar(self):\n",
    "        self.red = []\n",
    "        for capa in range(self.capas):\n",
    "            w = np.random.normal(size = (self.nodos,self.nodos))\n",
    "            b = np.random.normal(size = self.nodos)\n",
    "            self.red.append([w,b])\n",
    "        w_f = np.random.normal(size = self.nodos)\n",
    "        b_f = np.random.normal(size = 1)\n",
    "        self.red.append([w_f,b_f])\n",
    "    def mutar(self,alfa=0.1):\n",
    "        red = []\n",
    "        for r in self.red:\n",
    "            r0 = r[0]+alfa*np.random.normal(size = r[0].shape)\n",
    "            r1 = r[1]+alfa*np.random.normal(size = r[1].shape)\n",
    "            red.append([r0,r1])\n",
    "        hijo = binary(self.capas,self.nodos)\n",
    "        hijo.inicializar()\n",
    "        hijo.red = red\n",
    "        return hijo\n",
    "    def cruzar(self,other):\n",
    "        if self.forma == other.forma:\n",
    "            hijo = binary(self.capas,self.nodos)\n",
    "            hijo.inicializar()\n",
    "            red = []\n",
    "            for i in range(len(self.red)):\n",
    "                r0 = (self.red[i][0] + other.red[i][0])/2.0\n",
    "                r1 = (self.red[i][1] + other.red[i][1])/2.0\n",
    "                red.append([r0,r1])\n",
    "            hijo.red = red\n",
    "            return hijo\n",
    "        else:\n",
    "            return None\n",
    "    def sigmoid(self,x):\n",
    "        return 1/(1+np.exp(-x))\n",
    "    def predecir(self,entrada):\n",
    "        for r in self.red:\n",
    "            entrada = np.dot(entrada,r[0])\n",
    "            entrada = entrada + r[1]\n",
    "            entrada = self.sigmoid(entrada)\n",
    "        entrada = entrada.round()\n",
    "        entrada = int(entrada)\n",
    "        return entrada\n",
    "    def evaluar(self,entrada,resultado):\n",
    "        entrada = self.predecir(entrada)\n",
    "        if entrada == resultado:\n",
    "            return 1\n",
    "        return 0     \n",
    "            \n",
    "    "
   ]
  },
  {
   "cell_type": "code",
   "execution_count": 3,
   "metadata": {},
   "outputs": [],
   "source": [
    "def crear_poblacion(poblacion_por_especie,especies,nodos):\n",
    "    poblacion = []\n",
    "    for i in range(poblacion_por_especie):\n",
    "        for j in especies:\n",
    "            individuo = binary(j,nodos)\n",
    "            individuo.inicializar()\n",
    "            poblacion.append(individuo)\n",
    "    return poblacion"
   ]
  },
  {
   "cell_type": "code",
   "execution_count": 4,
   "metadata": {},
   "outputs": [],
   "source": [
    "def evaluar_poblacion(poblacion,muestra):\n",
    "    scores = []\n",
    "    for p in poblacion:\n",
    "        score = 0\n",
    "        count = 0\n",
    "        for r in muestra.iterrows():\n",
    "            v = r[1].target\n",
    "            u = r[1]\n",
    "            del u['target']\n",
    "            score += p.evaluar(u.values,v)\n",
    "            count += 1\n",
    "        score = float(score / float(count))\n",
    "        scores.append(score)\n",
    "    return scores"
   ]
  },
  {
   "cell_type": "code",
   "execution_count": 5,
   "metadata": {},
   "outputs": [],
   "source": [
    "def predecir(best_model,test):\n",
    "    scores = []\n",
    "    for r in test.iterrows():\n",
    "        u = r[1]\n",
    "        score = p.predecir(u)\n",
    "        scores.append(score)\n",
    "    return scores"
   ]
  },
  {
   "cell_type": "code",
   "execution_count": 6,
   "metadata": {},
   "outputs": [
    {
     "data": {
      "text/plain": [
       "Embarked\n",
       "C    168\n",
       "Q     77\n",
       "S    644\n",
       "dtype: int64"
      ]
     },
     "execution_count": 6,
     "metadata": {},
     "output_type": "execute_result"
    }
   ],
   "source": [
    "titanic = pd.read_csv('train.csv')\n",
    "titanic.groupby('Embarked').size()"
   ]
  },
  {
   "cell_type": "code",
   "execution_count": 7,
   "metadata": {},
   "outputs": [
    {
     "data": {
      "text/plain": [
       "891"
      ]
     },
     "execution_count": 7,
     "metadata": {},
     "output_type": "execute_result"
    }
   ],
   "source": [
    "titanic = pd.read_csv('train.csv')\n",
    "titanic = titanic[['Survived','Pclass','Sex','Age','SibSp','Parch','Fare','Embarked']]\n",
    "titanic.loc[titanic.Embarked=='C','Embarked']=-1\n",
    "titanic.loc[titanic.Embarked=='Q','Embarked']=0\n",
    "titanic.loc[titanic.Embarked=='S','Embarked']=1\n",
    "titanic['target'] = titanic.Survived\n",
    "titanic['Pclass_1']=np.where(titanic.Pclass==1,1,0)\n",
    "titanic['Pclass_2']=np.where(titanic.Pclass==2,1,0)\n",
    "titanic['Pclass_3']=np.where(titanic.Pclass==3,1,0)\n",
    "titanic['Sex']=np.where(titanic.Sex=='male',1,0)\n",
    "titanic = titanic.fillna(titanic.mean())\n",
    "titanic[['Age']] = titanic[['Age']]/titanic[['Age']].mean()\n",
    "titanic[['Fare']] = titanic[['Fare']]/titanic[['Fare']].mean()\n",
    "del titanic['Pclass'],titanic['Survived']\n",
    "len(titanic)"
   ]
  },
  {
   "cell_type": "code",
   "execution_count": 8,
   "metadata": {},
   "outputs": [],
   "source": [
    "titanic_train = titanic[titanic.target==0].sample(250)\\\n",
    "                .append(titanic[titanic.target==1].sample(250))\n",
    "titanic_test = titanic.loc[~titanic.index.isin(titanic_train.index),:]\n",
    "\n"
   ]
  },
  {
   "cell_type": "code",
   "execution_count": 9,
   "metadata": {},
   "outputs": [],
   "source": [
    "poblacion = crear_poblacion(1000,[3],9)\n",
    "poblacion = pd.DataFrame(list(zip(poblacion,range(len(poblacion)))))\n",
    "poblacion.columns = ['model','score']"
   ]
  },
  {
   "cell_type": "code",
   "execution_count": null,
   "metadata": {},
   "outputs": [
    {
     "name": "stdout",
     "output_type": "stream",
     "text": [
      "0 0.501325 0.735 0.6456772286640825\n",
      "1 0.48741999999999996 0.72 0.20549620775492572\n",
      "2 0.5022650000000001 0.745 0.9939338522838677\n",
      "3 0.51211 0.735 0.37537772442583617\n",
      "4 0.503715 0.755 0.40174568360357543\n",
      "5 0.5253499999999999 0.745 0.9447537276365886\n",
      "6 0.537885 0.74 0.7175029170565038\n",
      "7 0.517855 0.745 0.05624122474690818\n",
      "8 0.5340450000000001 0.77 0.8628453692163701\n",
      "9 0.5511600000000001 0.745 0.6781072095717743\n",
      "10 0.5474300000000001 0.73 0.3861530527309175\n",
      "11 0.5681700000000001 0.78 0.7063443388200257\n",
      "12 0.5757000000000001 0.75 0.2698578365145885\n",
      "13 0.58051 0.75 0.6328217778572782\n",
      "14 0.6053000000000001 0.805 0.4407448665733361\n",
      "15 0.603365 0.815 0.40073601515495694\n",
      "16 0.59772 0.75 0.617399809943967\n",
      "17 0.61234 0.81 0.6341041507066513\n",
      "18 0.614365 0.76 0.5973880634552357\n",
      "19 0.6171500000000001 0.775 0.19203482464796084\n",
      "20 0.6272949999999999 0.805 0.635430916928117\n",
      "21 0.6259549999999999 0.775 0.6454300520155523\n",
      "22 0.624235 0.775 0.9829969208437475\n",
      "23 0.6436949999999999 0.795 0.47893156776399404\n",
      "24 0.631775 0.75 0.15366171527385397\n",
      "25 0.6322900000000001 0.775 0.8697533446408563\n",
      "26 0.6417449999999999 0.805 0.12011052470361527\n",
      "27 0.64725 0.785 0.8854512400567175\n",
      "28 0.6239300000000001 0.77 0.2005776649498634\n",
      "29 0.66135 0.8 0.21096680657757172\n",
      "30 0.67901 0.81 0.09511018956585848\n",
      "31 0.6590550000000001 0.79 0.09290592185677227\n",
      "32 0.65485 0.78 0.6946318596969145\n",
      "33 0.68272 0.8 0.5949006111355849\n",
      "34 0.6731 0.79 0.5277308478959907\n",
      "35 0.66423 0.79 0.7486435796523785\n",
      "36 0.69026 0.83 0.4011053004599997\n",
      "37 0.685265 0.81 0.7238040594779579\n",
      "38 0.6875650000000001 0.82 0.3258236344539568\n",
      "39 0.66523 0.785 0.6657351840293186\n",
      "40 0.7061 0.83 0.4794252251905168\n",
      "41 0.6673 0.78 0.770382549392479\n",
      "42 0.71454 0.83 0.057367115457094275\n",
      "43 0.6894199999999999 0.795 0.3450378528574388\n",
      "44 0.668535 0.795 0.2237264215953796\n",
      "45 0.699035 0.805 0.8553649232415048\n",
      "46 0.707145 0.82 0.616163091136497\n",
      "47 0.697265 0.81 0.20499026665120446\n",
      "48 0.6840350000000001 0.8 0.06330097472104312\n",
      "49 0.716915 0.855 0.5318842964759044\n",
      "50 0.6942549999999998 0.8 0.834665842366122\n",
      "51 0.7089249999999999 0.82 0.7600362419102297\n",
      "52 0.72351 0.84 0.20722788265787395\n",
      "53 0.71127 0.8 0.04314545929963198\n",
      "54 0.7236399999999998 0.84 0.8795060843365882\n",
      "55 0.708075 0.81 0.8341472430416462\n",
      "56 0.7173350000000001 0.835 0.6406079894464654\n",
      "57 0.7461400000000001 0.84 0.08589077367713593\n",
      "58 0.7167549999999999 0.83 0.7571973688698731\n",
      "59 0.7347750000000001 0.835 0.7412376030281739\n",
      "60 0.7154199999999998 0.8 0.16190635866169878\n",
      "61 0.723935 0.835 0.8071318305605218\n",
      "62 0.71238 0.79 0.5160680427783445\n",
      "63 0.74598 0.84 0.9554168102991799\n",
      "64 0.7242649999999999 0.815 0.03546438406423991\n",
      "65 0.76006 0.86 0.16255279247905796\n",
      "66 0.719755 0.79 0.06251156587305684\n",
      "67 0.7350249999999999 0.825 0.08981247895549804\n",
      "68 0.75543 0.85 0.3020186472779157\n",
      "69 0.7131 0.78 0.6941016331737141\n",
      "70 0.7309200000000001 0.825 0.35322152964818765\n",
      "71 0.727675 0.8 0.17380601010513552\n",
      "72 0.727515 0.815 0.20248883283528785\n",
      "73 0.704945 0.795 0.5508214147288463\n",
      "74 0.731005 0.805 0.5470180428567514\n",
      "75 0.7470150000000001 0.825 0.003968888922697866\n"
     ]
    }
   ],
   "source": [
    "alfa = 2\n",
    "for i in range(1000):\n",
    "    alfa = np.random.random()\n",
    "    scores = evaluar_poblacion(poblacion.model.tolist(),titanic_train.sample(200))\n",
    "    poblacion.score = scores\n",
    "    print(i,poblacion.score.mean(),poblacion.score.max(),alfa)\n",
    "    poblacion = poblacion.sort_values('score',ascending=False)[0:int(len(poblacion)/2)]\n",
    "    nueva_poblacion = []\n",
    "    alfa = 1\n",
    "    for p in poblacion.model.tolist():\n",
    "        hijo = p.mutar(alfa = alfa)\n",
    "        nueva_poblacion.append(hijo)\n",
    "    nueva_poblacion = pd.DataFrame(list(zip(nueva_poblacion,range(len(nueva_poblacion)))))\n",
    "    nueva_poblacion.columns = ['model','score']\n",
    "    poblacion = poblacion.append(nueva_poblacion).reset_index(drop=True)\n"
   ]
  },
  {
   "cell_type": "code",
   "execution_count": null,
   "metadata": {},
   "outputs": [],
   "source": [
    "scores = evaluar_poblacion(poblacion.model.tolist(),titanic_train)\n",
    "poblacion.score = scores\n",
    "poblacion.sort_values('score',ascending=False)"
   ]
  },
  {
   "cell_type": "code",
   "execution_count": null,
   "metadata": {},
   "outputs": [],
   "source": [
    "best_model = poblacion.sort_values('score',ascending=False).iloc[0,0]"
   ]
  },
  {
   "cell_type": "code",
   "execution_count": null,
   "metadata": {},
   "outputs": [],
   "source": []
  },
  {
   "cell_type": "code",
   "execution_count": null,
   "metadata": {},
   "outputs": [],
   "source": [
    "titanic = pd.read_csv('test.csv')\n",
    "titanic = titanic[['Pclass','Sex','Age','SibSp','Parch','Fare','Embarked']]\n",
    "titanic.loc[titanic.Embarked=='C','Embarked']=-1\n",
    "titanic.loc[titanic.Embarked=='Q','Embarked']=0\n",
    "titanic.loc[titanic.Embarked=='S','Embarked']=1\n",
    "titanic['Pclass_1']=np.where(titanic.Pclass==1,1,0)\n",
    "titanic['Pclass_2']=np.where(titanic.Pclass==2,1,0)\n",
    "titanic['Pclass_3']=np.where(titanic.Pclass==3,1,0)\n",
    "titanic['Sex']=np.where(titanic.Sex=='male',1,0)\n",
    "titanic = titanic.fillna(titanic.mean())\n",
    "titanic[['Age']] = titanic[['Age']]/titanic[['Age']].mean()\n",
    "titanic[['Fare']] = titanic[['Fare']]/titanic[['Fare']].mean()\n",
    "del titanic['Pclass']\n",
    "len(titanic)"
   ]
  },
  {
   "cell_type": "code",
   "execution_count": null,
   "metadata": {},
   "outputs": [],
   "source": [
    "resultado = pd.read_csv('test.csv')\n",
    "resultado['Survived'] = predecir(best_model,titanic)\n",
    "resultado.Survived = resultado.Survived.round().astype(int)\n",
    "resultado[['PassengerId','Survived']].to_csv('result.csv',index=False)"
   ]
  },
  {
   "cell_type": "code",
   "execution_count": null,
   "metadata": {},
   "outputs": [],
   "source": []
  },
  {
   "cell_type": "code",
   "execution_count": null,
   "metadata": {},
   "outputs": [],
   "source": []
  }
 ],
 "metadata": {
  "kernelspec": {
   "display_name": "Python 3",
   "language": "python",
   "name": "python3"
  },
  "language_info": {
   "codemirror_mode": {
    "name": "ipython",
    "version": 3
   },
   "file_extension": ".py",
   "mimetype": "text/x-python",
   "name": "python",
   "nbconvert_exporter": "python",
   "pygments_lexer": "ipython3",
   "version": "3.4.5"
  }
 },
 "nbformat": 4,
 "nbformat_minor": 2
}
