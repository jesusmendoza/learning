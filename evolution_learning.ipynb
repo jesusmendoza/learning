{
 "cells": [
  {
   "cell_type": "code",
   "execution_count": 15,
   "metadata": {
    "collapsed": true
   },
   "outputs": [],
   "source": [
    "import numpy as np\n",
    "import pandas as pd\n",
    "from keras.models import Sequential\n",
    "from keras.layers import Dense, Dropout"
   ]
  },
  {
   "cell_type": "code",
   "execution_count": 16,
   "metadata": {
    "collapsed": true
   },
   "outputs": [],
   "source": [
    "def crear_modelo_inicial(n_internas):\n",
    "    model = Sequential()\n",
    "    model.add(Dense(7, input_dim=7,activation='sigmoid'))\n",
    "    for i in range(n_internas):\n",
    "        model.add(Dense(14, activation='sigmoid'))\n",
    "    model.add(Dense(1, activation='sigmoid'))\n",
    "    model.compile(loss='binary_crossentropy',\n",
    "              optimizer='rmsprop',\n",
    "              metrics=['accuracy'])\n",
    "    return model\n",
    "\n",
    "def modificar_modelo(model_padre,alpha=0.1):\n",
    "    pesos = model_padre.get_weights()\n",
    "    l=[]\n",
    "    for p in pesos:\n",
    "        u = p + alpha*np.random.normal(size=p.shape)\n",
    "        l.append(u)\n",
    "    config = model_padre.get_config()\n",
    "    new_model = Sequential.from_config(config)\n",
    "    new_model.set_weights(l)\n",
    "    new_model.compile(loss='binary_crossentropy',\n",
    "              optimizer='rmsprop',\n",
    "              metrics=['accuracy'])\n",
    "    return new_model\n",
    "def actualizar_modelo(model_padre):\n",
    "    pesos = model_padre.get_weights()\n",
    "    config = model_padre.get_config()\n",
    "    new_model = Sequential.from_config(config)\n",
    "    new_model.set_weights(pesos)\n",
    "    new_model.compile(loss='binary_crossentropy',\n",
    "              optimizer='rmsprop',\n",
    "              metrics=['accuracy'])\n",
    "    return new_model"
   ]
  },
  {
   "cell_type": "code",
   "execution_count": 17,
   "metadata": {
    "collapsed": true
   },
   "outputs": [],
   "source": [
    "def Scores(modelos):\n",
    "    scores = []\n",
    "    for model in modelos.model.tolist():\n",
    "        model.fit(x_train, y_train,\n",
    "              epochs=1000,\n",
    "              batch_size=128,verbose = False)\n",
    "        score = model.evaluate(x_test, y_test, batch_size=128,verbose=False)\n",
    "        scores.append(score)\n",
    "    return scores\n",
    "        \n",
    "\n"
   ]
  },
  {
   "cell_type": "code",
   "execution_count": 18,
   "metadata": {},
   "outputs": [
    {
     "data": {
      "text/plain": [
       "891"
      ]
     },
     "execution_count": 18,
     "metadata": {},
     "output_type": "execute_result"
    }
   ],
   "source": [
    "titanic = pd.read_csv('train.csv')\n",
    "titanic = titanic[['Survived','Pclass','Sex','Age','SibSp','Parch']]\n",
    "titanic['target'] = titanic.Survived\n",
    "titanic['Pclass_1']=np.where(titanic.Pclass==1,1,0)\n",
    "titanic['Pclass_2']=np.where(titanic.Pclass==2,1,0)\n",
    "titanic['Pclass_3']=np.where(titanic.Pclass==3,1,0)\n",
    "titanic['Sex']=np.where(titanic.Sex=='male',1,0)\n",
    "titanic = titanic.fillna(titanic.mean())\n",
    "titanic[['Age']] = titanic[['Age']]/titanic[['Age']].mean()\n",
    "del titanic['Pclass'],titanic['Survived']\n",
    "len(titanic)"
   ]
  },
  {
   "cell_type": "code",
   "execution_count": 19,
   "metadata": {
    "collapsed": true
   },
   "outputs": [],
   "source": [
    "titanic_train = titanic.sample(600)\n",
    "titanic_test = titanic.loc[~titanic.index.isin(titanic_train.index),:]\n",
    "x_train = titanic_train[['Sex','Age','SibSp','Parch',\n",
    "                         'Pclass_1','Pclass_2','Pclass_3']].values\n",
    "y_train = titanic_train.target.values\n",
    "x_test = titanic_test[['Sex','Age','SibSp','Parch',\n",
    "                         'Pclass_1','Pclass_2','Pclass_3']].values\n",
    "y_test = titanic_test.target.values"
   ]
  },
  {
   "cell_type": "code",
   "execution_count": null,
   "metadata": {
    "collapsed": true
   },
   "outputs": [],
   "source": [
    "## crear poblacion inicial\n",
    "\n",
    "modelos = []\n",
    "for n in range(10):\n",
    "    for i in range(20):\n",
    "        modelos.append([n,crear_modelo_inicial(n)])\n",
    "modelos = pd.DataFrame(modelos)\n",
    "modelos.columns =['n','model']\n"
   ]
  },
  {
   "cell_type": "code",
   "execution_count": null,
   "metadata": {
    "collapsed": true
   },
   "outputs": [],
   "source": []
  },
  {
   "cell_type": "code",
   "execution_count": null,
   "metadata": {
    "collapsed": true
   },
   "outputs": [],
   "source": [
    "for i in range(100):\n",
    "    scores = Scores(modelos)\n",
    "    u = pd.DataFrame(scores)\n",
    "    modelos[['loss','score']] = u\n",
    "    print(modelos.sort_values('score',ascending=False).head())\n",
    "    modelos = modelos.sort_values('score',ascending=False)[0:int(len(modelos)/2)]\n",
    "    modelos.model = modelos.model.apply(actualizar_modelo)\n",
    "    l = modelos.model.apply(modificar_modelo)\n",
    "    u =pd.DataFrame(list(zip(modelos.n.tolist(),l)))\n",
    "    u.columns = ['n','model']\n",
    "    modelos = modelos.append(u).reset_index(drop=True).fillna(0)\n"
   ]
  },
  {
   "cell_type": "code",
   "execution_count": null,
   "metadata": {
    "collapsed": true
   },
   "outputs": [],
   "source": [
    "modelos.head()\n"
   ]
  },
  {
   "cell_type": "code",
   "execution_count": null,
   "metadata": {
    "collapsed": true
   },
   "outputs": [],
   "source": [
    "best_model = modelos.iloc[0,1]\n",
    "\n",
    "\n"
   ]
  },
  {
   "cell_type": "code",
   "execution_count": null,
   "metadata": {
    "collapsed": true
   },
   "outputs": [],
   "source": []
  },
  {
   "cell_type": "code",
   "execution_count": null,
   "metadata": {
    "collapsed": true
   },
   "outputs": [],
   "source": []
  },
  {
   "cell_type": "code",
   "execution_count": null,
   "metadata": {
    "collapsed": true
   },
   "outputs": [],
   "source": [
    "titanic = pd.read_csv('test.csv')\n",
    "titanic = titanic[['Pclass','Sex','Age','SibSp','Parch']]\n",
    "titanic['Pclass_1']=np.where(titanic.Pclass==1,1,0)\n",
    "titanic['Pclass_2']=np.where(titanic.Pclass==2,1,0)\n",
    "titanic['Pclass_3']=np.where(titanic.Pclass==3,1,0)\n",
    "titanic['Sex']=np.where(titanic.Sex=='male',1,0)\n",
    "titanic = titanic.fillna(titanic.mean())\n",
    "titanic[['Age']] = titanic[['Age']]/titanic[['Age']].mean()\n",
    "del titanic['Pclass']\n",
    "\n",
    "\n",
    "\n",
    "\n",
    "\n"
   ]
  },
  {
   "cell_type": "code",
   "execution_count": null,
   "metadata": {
    "collapsed": true
   },
   "outputs": [],
   "source": [
    "resultado = pd.read_csv('test.csv')\n",
    "resultado['Survived'] = best_model.predict_classes(titanic)\n",
    "resultado[['PassengerId','Survived']].to_csv('result.csv',index=False)\n"
   ]
  }
 ],
 "metadata": {
  "kernelspec": {
   "display_name": "Python 3",
   "language": "python",
   "name": "python3"
  },
  "language_info": {
   "codemirror_mode": {
    "name": "ipython",
    "version": 3
   },
   "file_extension": ".py",
   "mimetype": "text/x-python",
   "name": "python",
   "nbconvert_exporter": "python",
   "pygments_lexer": "ipython3",
   "version": "3.6.3"
  }
 },
 "nbformat": 4,
 "nbformat_minor": 2
}
