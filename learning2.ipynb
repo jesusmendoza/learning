{
 "cells": [
  {
   "cell_type": "code",
   "execution_count": 162,
   "metadata": {},
   "outputs": [],
   "source": [
    "import tensorflow as tf\n",
    "import numpy as np\n",
    "import pandas as pd"
   ]
  },
  {
   "cell_type": "code",
   "execution_count": 163,
   "metadata": {
    "collapsed": true
   },
   "outputs": [],
   "source": [
    "class binary():\n",
    "    def __init__(self,capas=1,nodos=1):\n",
    "        self.capas = capas\n",
    "        self.nodos = nodos\n",
    "        self.forma = (self.capas,self.nodos)\n",
    "    def inicializar(self):\n",
    "        self.red = []\n",
    "        for capa in range(self.capas):\n",
    "            w = np.random.normal(size = (self.nodos,self.nodos))\n",
    "            b = np.random.normal(size = self.nodos)\n",
    "            self.red.append([w,b])\n",
    "        w_f = np.random.normal(size = self.nodos)\n",
    "        b_f = np.random.normal(size = 1)\n",
    "        self.red.append([w_f,b_f])\n",
    "    def mutar(self,alfa=0.1):\n",
    "        red = []\n",
    "        for r in self.red:\n",
    "            r0 = r[0]+alfa*np.random.normal(size = r[0].shape)\n",
    "            r1 = r[1]+alfa*np.random.normal(size = r[1].shape)\n",
    "            red.append([r0,r1])\n",
    "        hijo = binary(self.capas,self.nodos)\n",
    "        hijo.inicializar()\n",
    "        hijo.red = red\n",
    "        return hijo\n",
    "    def cruzar(self,other):\n",
    "        if self.forma == other.forma:\n",
    "            hijo = binary(self.capas,self.nodos)\n",
    "            hijo.inicializar()\n",
    "            red = []\n",
    "            for i in range(len(self.red)):\n",
    "                r0 = (self.red[i][0] + other.red[i][0])/2.0\n",
    "                r1 = (self.red[i][1] + other.red[i][1])/2.0\n",
    "                red.append([r0,r1])\n",
    "            hijo.red = red\n",
    "            return hijo\n",
    "        else:\n",
    "            return None\n",
    "    def sigmoid(self,x):\n",
    "        return 1/(1+np.exp(-x))\n",
    "    def predecir(self,entrada):\n",
    "        for r in self.red:\n",
    "            entrada = np.dot(entrada,r[0])\n",
    "            entrada = entrada + r[1]\n",
    "            entrada = self.sigmoid(entrada)\n",
    "        entrada = float(entrada)\n",
    "        return entrada\n",
    "    def evaluar(self,entrada,resultado):\n",
    "        entrada = self.predecir(entrada)\n",
    "        return abs(resultado-entrada)\n",
    "        \n",
    "            \n",
    "    "
   ]
  },
  {
   "cell_type": "code",
   "execution_count": 164,
   "metadata": {
    "collapsed": true
   },
   "outputs": [],
   "source": [
    "def crear_poblacion(poblacion_por_especie,especies,nodos):\n",
    "    poblacion = []\n",
    "    for i in range(poblacion_por_especie):\n",
    "        for j in especies:\n",
    "            individuo = binary(j,nodos)\n",
    "            individuo.inicializar()\n",
    "            poblacion.append(individuo)\n",
    "    return poblacion"
   ]
  },
  {
   "cell_type": "code",
   "execution_count": 165,
   "metadata": {
    "collapsed": true
   },
   "outputs": [],
   "source": [
    "def evaluar_poblacion(poblacion,muestra):\n",
    "    scores = []\n",
    "    for p in poblacion:\n",
    "        score = 0\n",
    "        count = 0\n",
    "        for r in muestra.iterrows():\n",
    "            v = r[1].target\n",
    "            u = r[1]\n",
    "            del u['target']\n",
    "            score += p.evaluar(u.values,v)\n",
    "            count += 1\n",
    "        score = float(score / float(count))\n",
    "        scores.append(score)\n",
    "    return scores"
   ]
  },
  {
   "cell_type": "code",
   "execution_count": 166,
   "metadata": {
    "collapsed": true
   },
   "outputs": [],
   "source": [
    "def predecir(best_model,test):\n",
    "    scores = []\n",
    "    for r in test.iterrows():\n",
    "        u = r[1]\n",
    "        score = p.predecir(u)\n",
    "        scores.append(score)\n",
    "    return scores"
   ]
  },
  {
   "cell_type": "code",
   "execution_count": 167,
   "metadata": {},
   "outputs": [
    {
     "data": {
      "text/plain": [
       "Embarked\n",
       "C    168\n",
       "Q     77\n",
       "S    644\n",
       "dtype: int64"
      ]
     },
     "execution_count": 167,
     "metadata": {},
     "output_type": "execute_result"
    }
   ],
   "source": [
    "titanic = pd.read_csv('train.csv')\n",
    "titanic.groupby('Embarked').size()"
   ]
  },
  {
   "cell_type": "code",
   "execution_count": 168,
   "metadata": {},
   "outputs": [
    {
     "data": {
      "text/plain": [
       "891"
      ]
     },
     "execution_count": 168,
     "metadata": {},
     "output_type": "execute_result"
    }
   ],
   "source": [
    "titanic = pd.read_csv('train.csv')\n",
    "titanic = titanic[['Survived','Pclass','Sex','Age','SibSp','Parch','Fare','Embarked']]\n",
    "titanic.loc[titanic.Embarked=='C','Embarked']=-1\n",
    "titanic.loc[titanic.Embarked=='Q','Embarked']=0\n",
    "titanic.loc[titanic.Embarked=='S','Embarked']=1\n",
    "titanic['target'] = titanic.Survived\n",
    "titanic['Pclass_1']=np.where(titanic.Pclass==1,1,0)\n",
    "titanic['Pclass_2']=np.where(titanic.Pclass==2,1,0)\n",
    "titanic['Pclass_3']=np.where(titanic.Pclass==3,1,0)\n",
    "titanic['Sex']=np.where(titanic.Sex=='male',1,0)\n",
    "titanic = titanic.fillna(titanic.mean())\n",
    "titanic[['Age']] = titanic[['Age']]/titanic[['Age']].mean()\n",
    "titanic[['Fare']] = titanic[['Fare']]/titanic[['Fare']].mean()\n",
    "del titanic['Pclass'],titanic['Survived']\n",
    "len(titanic)"
   ]
  },
  {
   "cell_type": "code",
   "execution_count": 169,
   "metadata": {
    "collapsed": true
   },
   "outputs": [],
   "source": [
    "titanic_train = titanic[titanic.target==0].sample(250)\\\n",
    "                .append(titanic[titanic.target==1].sample(250))\n",
    "titanic_test = titanic.loc[~titanic.index.isin(titanic_train.index),:]\n",
    "\n"
   ]
  },
  {
   "cell_type": "code",
   "execution_count": null,
   "metadata": {
    "collapsed": true
   },
   "outputs": [],
   "source": [
    "poblacion = crear_poblacion(1000,[1],9)\n",
    "poblacion = pd.DataFrame(list(zip(poblacion,range(len(poblacion)))))\n",
    "poblacion.columns = ['model','score']"
   ]
  },
  {
   "cell_type": "code",
   "execution_count": null,
   "metadata": {},
   "outputs": [
    {
     "name": "stdout",
     "output_type": "stream",
     "text": [
      "0 0.5005571879993929 0.39971444133404527 2\n"
     ]
    }
   ],
   "source": [
    "alfa = 2\n",
    "for i in range(1000):\n",
    "    scores = evaluar_poblacion(poblacion.model.tolist(),titanic_train.sample(200))\n",
    "    poblacion.score = scores\n",
    "    print(i,poblacion.score.mean(),poblacion.score.min(),alfa)\n",
    "    poblacion = poblacion.sort_values('score')[0:int(len(poblacion)/2)]\n",
    "    nueva_poblacion = []\n",
    "    alfa = 1\n",
    "    for p in poblacion.model.tolist():\n",
    "        hijo = p.mutar(alfa = alfa)\n",
    "        nueva_poblacion.append(hijo)\n",
    "    nueva_poblacion = pd.DataFrame(list(zip(nueva_poblacion,range(len(nueva_poblacion)))))\n",
    "    nueva_poblacion.columns = ['model','score']\n",
    "    poblacion = poblacion.append(nueva_poblacion).reset_index(drop=True)\n"
   ]
  },
  {
   "cell_type": "code",
   "execution_count": null,
   "metadata": {},
   "outputs": [],
   "source": [
    "scores = evaluar_poblacion(poblacion.model.tolist(),titanic_train)\n",
    "poblacion.score = scores\n",
    "poblacion.sort_values('score')"
   ]
  },
  {
   "cell_type": "code",
   "execution_count": null,
   "metadata": {
    "collapsed": true
   },
   "outputs": [],
   "source": [
    "best_model = poblacion.sort_values('score').iloc[0,0]"
   ]
  },
  {
   "cell_type": "code",
   "execution_count": null,
   "metadata": {},
   "outputs": [],
   "source": []
  },
  {
   "cell_type": "code",
   "execution_count": null,
   "metadata": {},
   "outputs": [],
   "source": [
    "titanic = pd.read_csv('test.csv')\n",
    "titanic = titanic[['Pclass','Sex','Age','SibSp','Parch','Fare','Embarked']]\n",
    "titanic.loc[titanic.Embarked=='C','Embarked']=-1\n",
    "titanic.loc[titanic.Embarked=='Q','Embarked']=0\n",
    "titanic.loc[titanic.Embarked=='S','Embarked']=1\n",
    "titanic['Pclass_1']=np.where(titanic.Pclass==1,1,0)\n",
    "titanic['Pclass_2']=np.where(titanic.Pclass==2,1,0)\n",
    "titanic['Pclass_3']=np.where(titanic.Pclass==3,1,0)\n",
    "titanic['Sex']=np.where(titanic.Sex=='male',1,0)\n",
    "titanic = titanic.fillna(titanic.mean())\n",
    "titanic[['Age']] = titanic[['Age']]/titanic[['Age']].mean()\n",
    "titanic[['Fare']] = titanic[['Fare']]/titanic[['Fare']].mean()\n",
    "del titanic['Pclass']\n",
    "len(titanic)"
   ]
  },
  {
   "cell_type": "code",
   "execution_count": null,
   "metadata": {},
   "outputs": [],
   "source": [
    "resultado = pd.read_csv('test.csv')\n",
    "resultado['Survived'] = predecir(best_model,titanic)\n",
    "resultado.Survived = resultado.Survived.round().astype(int)\n",
    "resultado[['PassengerId','Survived']].to_csv('result.csv',index=False)"
   ]
  },
  {
   "cell_type": "code",
   "execution_count": null,
   "metadata": {
    "collapsed": true
   },
   "outputs": [],
   "source": []
  },
  {
   "cell_type": "code",
   "execution_count": null,
   "metadata": {
    "collapsed": true
   },
   "outputs": [],
   "source": []
  }
 ],
 "metadata": {
  "kernelspec": {
   "display_name": "Python 3",
   "language": "python",
   "name": "python3"
  }
 },
 "nbformat": 4,
 "nbformat_minor": 2
}
