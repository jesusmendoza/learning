{
 "cells": [
  {
   "cell_type": "code",
   "execution_count": 1,
   "metadata": {},
   "outputs": [],
   "source": [
    "import numpy as np\n",
    "import pandas as pd"
   ]
  },
  {
   "cell_type": "code",
   "execution_count": 2,
   "metadata": {},
   "outputs": [],
   "source": [
    "class multiclass():\n",
    "    def __init__(self,input = 3, capas=1,nodos=1,clases = 3):\n",
    "        self.capas = capas\n",
    "        self.nodos = nodos\n",
    "        self.forma = (self.capas,self.nodos)\n",
    "        self.clases = clases\n",
    "        self.input = input\n",
    "    def inicializar(self):\n",
    "        self.red = []\n",
    "        w = np.random.normal(size = (self.input,self.nodos))\n",
    "        b = np.random.normal(size = self.nodos)\n",
    "        self.red.append([w,b])\n",
    "        for capa in range(self.capas):\n",
    "            w = np.random.normal(size = (self.nodos,self.nodos))\n",
    "            b = np.random.normal(size = self.nodos)\n",
    "            self.red.append([w,b])\n",
    "        w_f = np.random.normal(size = [self.nodos,self.clases])\n",
    "        b_f = np.random.normal(size = self.clases)\n",
    "        self.red.append([w_f,b_f])\n",
    "    def mutar(self,alfa=0.1):\n",
    "        red = []\n",
    "        for r in self.red:\n",
    "            r0 = r[0]+alfa*np.random.normal(size = r[0].shape)\n",
    "            r1 = r[1]+alfa*np.random.normal(size = r[1].shape)\n",
    "            red.append([r0,r1])\n",
    "        hijo = multiclass(self.input,self.capas,self.nodos,self.clases)\n",
    "        hijo.inicializar()\n",
    "        hijo.red = red\n",
    "        return hijo\n",
    "    def cruzar(self,other):\n",
    "        if self.forma == other.forma:\n",
    "            hijo = multiclass(self.input,self.capas,self.nodos,self.clases)\n",
    "            hijo.inicializar()\n",
    "            red = []\n",
    "            for i in range(len(self.red)):\n",
    "                r0 = (self.red[i][0] + other.red[i][0])/2.0\n",
    "                r1 = (self.red[i][1] + other.red[i][1])/2.0\n",
    "                red.append([r0,r1])\n",
    "            hijo.red = red\n",
    "            return hijo\n",
    "        else:\n",
    "            return None\n",
    "    def sigmoid(self,x):\n",
    "        return 1.0/(1.0 + np.exp(-x))\n",
    "    def softmax(self,x):\n",
    "        x = np.exp(x)/(np.exp(x).sum())\n",
    "        return x\n",
    "    def predecir(self,entrada):\n",
    "        for rr in range(len(self.red)):\n",
    "            r = self.red[rr]\n",
    "            entrada = np.dot(entrada,r[0])\n",
    "            entrada = entrada + r[1]\n",
    "            entrada = self.sigmoid(entrada)\n",
    "        entrada = self.softmax(entrada)\n",
    "        entrada = entrada.argmax()\n",
    "        return entrada\n",
    "    def evaluar(self,entrada,resultado):\n",
    "        entrada = self.predecir(entrada)\n",
    "        if float(entrada) == float(resultado):\n",
    "            return 1\n",
    "        return 0\n",
    "\n",
    "        \n",
    "            \n",
    "    "
   ]
  },
  {
   "cell_type": "code",
   "execution_count": 3,
   "metadata": {},
   "outputs": [],
   "source": [
    "def crear_poblacion(poblacion_por_especie,especies,input,nodos,clases):\n",
    "    poblacion = []\n",
    "    for i in range(poblacion_por_especie):\n",
    "        for j in especies:\n",
    "            individuo = multiclass(input = input,capas = j,nodos = nodos,clases = clases)\n",
    "            individuo.inicializar()\n",
    "            poblacion.append(individuo)\n",
    "    return poblacion"
   ]
  },
  {
   "cell_type": "code",
   "execution_count": 4,
   "metadata": {},
   "outputs": [],
   "source": [
    "def evaluar_poblacion(poblacion,muestra):\n",
    "    scores = []\n",
    "    for p in poblacion:\n",
    "        score = 0\n",
    "        count = 0\n",
    "        for r in muestra.iterrows():\n",
    "            v = r[1].target\n",
    "            u = r[1]\n",
    "            del u['target']\n",
    "            score += p.evaluar(u.values,v)\n",
    "            count += 1\n",
    "        score = float(score / float(count))\n",
    "        scores.append(score)\n",
    "    return scores"
   ]
  },
  {
   "cell_type": "code",
   "execution_count": 5,
   "metadata": {},
   "outputs": [],
   "source": [
    "def predecir(best_model,test):\n",
    "    scores = []\n",
    "    for r in test.iterrows():\n",
    "        u = r[1]\n",
    "        score = p.predecir(u)\n",
    "        scores.append(score)\n",
    "    return scores"
   ]
  },
  {
   "cell_type": "code",
   "execution_count": 6,
   "metadata": {},
   "outputs": [],
   "source": [
    "titanic = pd.read_csv('mnist/train.csv')\n",
    "titanic = titanic.rename(columns={'label':'target'})\n"
   ]
  },
  {
   "cell_type": "code",
   "execution_count": 7,
   "metadata": {},
   "outputs": [
    {
     "data": {
      "text/plain": [
       "0    1\n",
       "1    0\n",
       "2    1\n",
       "3    4\n",
       "4    0\n",
       "Name: target, dtype: int64"
      ]
     },
     "execution_count": 7,
     "metadata": {},
     "output_type": "execute_result"
    }
   ],
   "source": [
    "titanic.target.head()"
   ]
  },
  {
   "cell_type": "code",
   "execution_count": 8,
   "metadata": {},
   "outputs": [],
   "source": [
    "titanic_train = titanic.sample(38000)\n",
    "titanic_test = titanic.loc[~titanic.index.isin(titanic_train.index),:]\n",
    "\n"
   ]
  },
  {
   "cell_type": "code",
   "execution_count": 9,
   "metadata": {},
   "outputs": [
    {
     "data": {
      "text/plain": [
       "16211    3\n",
       "40694    4\n",
       "24764    2\n",
       "10119    4\n",
       "27711    0\n",
       "Name: target, dtype: int64"
      ]
     },
     "execution_count": 9,
     "metadata": {},
     "output_type": "execute_result"
    }
   ],
   "source": [
    "titanic_train.target.head()"
   ]
  },
  {
   "cell_type": "code",
   "execution_count": 10,
   "metadata": {},
   "outputs": [],
   "source": [
    "poblacion = crear_poblacion(1000,[1],784,64,10)\n",
    "poblacion = pd.DataFrame(list(zip(poblacion,range(len(poblacion)))))\n",
    "poblacion.columns = ['model','score']"
   ]
  },
  {
   "cell_type": "code",
   "execution_count": null,
   "metadata": {},
   "outputs": [
    {
     "name": "stderr",
     "output_type": "stream",
     "text": [
      "/home/jesus/anaconda3/envs/tensorflow/lib/python3.4/site-packages/ipykernel_launcher.py:44: RuntimeWarning: overflow encountered in exp\n"
     ]
    },
    {
     "name": "stdout",
     "output_type": "stream",
     "text": [
      "                                              model  score\n",
      "213  <__main__.multiclass object at 0x7f57734de5f8>  0.395\n",
      "803  <__main__.multiclass object at 0x7f57737e5898>  0.391\n",
      "866  <__main__.multiclass object at 0x7f5763022588>  0.389\n",
      "449  <__main__.multiclass object at 0x7f5773519d30>  0.389\n",
      "447  <__main__.multiclass object at 0x7f5773571f98>  0.389\n",
      "                                              model  score\n",
      "106  <__main__.multiclass object at 0x7f5762f50128>  0.365\n",
      "810  <__main__.multiclass object at 0x7f5762f14e80>  0.360\n",
      "722  <__main__.multiclass object at 0x7f5762f73048>  0.358\n",
      "843  <__main__.multiclass object at 0x7f57734e96a0>  0.358\n",
      "119  <__main__.multiclass object at 0x7f57736f6748>  0.358\n"
     ]
    }
   ],
   "source": [
    "alfa = 1\n",
    "n=10\n",
    "for i in range(100000):\n",
    "    scores = evaluar_poblacion(poblacion.model.tolist(),titanic_train.sample(n))\n",
    "    poblacion.score = scores\n",
    "    poblacion = poblacion.sort_values('score',ascending=False)[0:int(len(poblacion)/2)]\n",
    "    nueva_poblacion = []\n",
    "    alfa = 1\n",
    "    for p in poblacion.model.tolist():\n",
    "        hijo = p.mutar(alfa = alfa)\n",
    "        nueva_poblacion.append(hijo)\n",
    "    nueva_poblacion = pd.DataFrame(list(zip(nueva_poblacion,range(len(nueva_poblacion)))))\n",
    "    nueva_poblacion.columns = ['model','score']\n",
    "    poblacion = poblacion.append(nueva_poblacion).reset_index(drop=True)\n",
    "    if i%100==0:\n",
    "        scores = evaluar_poblacion(poblacion.model.tolist(),titanic_test.sample(1000))\n",
    "        poblacion.score = scores\n",
    "        print(poblacion.sort_values('score',ascending=False).head())\n"
   ]
  },
  {
   "cell_type": "code",
   "execution_count": null,
   "metadata": {},
   "outputs": [],
   "source": [
    "scores = evaluar_poblacion(poblacion.model.tolist(),titanic_test)\n",
    "poblacion.score = scores\n",
    "poblacion.sort_values('score',ascending=False)"
   ]
  },
  {
   "cell_type": "code",
   "execution_count": null,
   "metadata": {},
   "outputs": [],
   "source": [
    "best_model = poblacion.sort_values('score',ascending = False).iloc[0,0]"
   ]
  },
  {
   "cell_type": "code",
   "execution_count": null,
   "metadata": {},
   "outputs": [],
   "source": []
  },
  {
   "cell_type": "code",
   "execution_count": null,
   "metadata": {},
   "outputs": [],
   "source": [
    "titanic = pd.read_csv('mnist/test.csv')\n"
   ]
  },
  {
   "cell_type": "code",
   "execution_count": null,
   "metadata": {},
   "outputs": [],
   "source": [
    "titanic.head()"
   ]
  },
  {
   "cell_type": "code",
   "execution_count": null,
   "metadata": {},
   "outputs": [],
   "source": [
    "resultado = pd.read_csv('mnist/test.csv')\n",
    "scores = predecir(best_model,titanic)\n",
    "resultado['Label'] = scores\n",
    "resultado.Label = resultado.Label.round().astype(int)\n",
    "resultado['ImageId']=list(range(1,len(resultado)+1))\n",
    "\n",
    "resultado[['ImageId','Label']].to_csv('mnist/result.csv',index=False)"
   ]
  },
  {
   "cell_type": "code",
   "execution_count": null,
   "metadata": {},
   "outputs": [],
   "source": []
  },
  {
   "cell_type": "code",
   "execution_count": null,
   "metadata": {},
   "outputs": [],
   "source": []
  }
 ],
 "metadata": {
  "kernelspec": {
   "display_name": "Python 3",
   "language": "python",
   "name": "python3"
  },
  "language_info": {
   "codemirror_mode": {
    "name": "ipython",
    "version": 3
   },
   "file_extension": ".py",
   "mimetype": "text/x-python",
   "name": "python",
   "nbconvert_exporter": "python",
   "pygments_lexer": "ipython3",
   "version": "3.4.5"
  }
 },
 "nbformat": 4,
 "nbformat_minor": 2
}
