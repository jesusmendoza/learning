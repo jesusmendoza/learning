{
 "cells": [
  {
   "cell_type": "code",
   "execution_count": 1,
   "metadata": {},
   "outputs": [
    {
     "ename": "NameError",
     "evalue": "name 'nn' is not defined",
     "output_type": "error",
     "traceback": [
      "\u001b[0;31m---------------------------------------------------------------------------\u001b[0m",
      "\u001b[0;31mNameError\u001b[0m                                 Traceback (most recent call last)",
      "\u001b[0;32m<ipython-input-1-455178056edf>\u001b[0m in \u001b[0;36m<module>\u001b[0;34m()\u001b[0m\n\u001b[0;32m----> 1\u001b[0;31m \u001b[0;32mclass\u001b[0m \u001b[0mModel\u001b[0m\u001b[0;34m(\u001b[0m\u001b[0mnn\u001b[0m\u001b[0;34m.\u001b[0m\u001b[0mModule\u001b[0m\u001b[0;34m)\u001b[0m\u001b[0;34m:\u001b[0m\u001b[0;34m\u001b[0m\u001b[0m\n\u001b[0m\u001b[1;32m      2\u001b[0m     \u001b[0;32mdef\u001b[0m \u001b[0m__init__\u001b[0m\u001b[0;34m(\u001b[0m\u001b[0mself\u001b[0m\u001b[0;34m,\u001b[0m \u001b[0mrng_state\u001b[0m\u001b[0;34m)\u001b[0m\u001b[0;34m:\u001b[0m\u001b[0;34m\u001b[0m\u001b[0m\n\u001b[1;32m      3\u001b[0m         \u001b[0msuper\u001b[0m\u001b[0;34m(\u001b[0m\u001b[0;34m)\u001b[0m\u001b[0;34m.\u001b[0m\u001b[0m__init__\u001b[0m\u001b[0;34m(\u001b[0m\u001b[0;34m)\u001b[0m\u001b[0;34m\u001b[0m\u001b[0m\n\u001b[1;32m      4\u001b[0m \u001b[0;34m\u001b[0m\u001b[0m\n\u001b[1;32m      5\u001b[0m         \u001b[0mself\u001b[0m\u001b[0;34m.\u001b[0m\u001b[0mconv1\u001b[0m \u001b[0;34m=\u001b[0m \u001b[0mnn\u001b[0m\u001b[0;34m.\u001b[0m\u001b[0mConv2d\u001b[0m\u001b[0;34m(\u001b[0m\u001b[0;36m4\u001b[0m\u001b[0;34m,\u001b[0m \u001b[0;36m32\u001b[0m\u001b[0;34m,\u001b[0m \u001b[0;34m(\u001b[0m\u001b[0;36m8\u001b[0m\u001b[0;34m,\u001b[0m \u001b[0;36m8\u001b[0m\u001b[0;34m)\u001b[0m\u001b[0;34m,\u001b[0m \u001b[0;36m4\u001b[0m\u001b[0;34m)\u001b[0m\u001b[0;34m\u001b[0m\u001b[0m\n",
      "\u001b[0;31mNameError\u001b[0m: name 'nn' is not defined"
     ]
    }
   ],
   "source": [
    "class Model(nn.Module):\n",
    "    def __init__(self, rng_state):\n",
    "        super().__init__()\n",
    "        \n",
    "        self.conv1 = nn.Conv2d(4, 32, (8, 8), 4)\n",
    "        self.conv2 = nn.Conv2d(32, 64, (4, 4), 2)\n",
    "        self.conv3 = nn.Conv2d(64, 64, (3, 3), 1)\n",
    "        self.dense = nn.Linear(4*4*64, 512)\n",
    "        self.out = nn.Linear(512, 18)\n",
    "        \n",
    "        self.rng_state = rng_state\n",
    "        torch.manual_seed(rng_state)\n",
    "            \n",
    "        self.evolve_states = []\n",
    "            \n",
    "        self.add_tensors = {}\n",
    "        for name, tensor in self.named_parameters():\n",
    "            if tensor.size() not in self.add_tensors:\n",
    "                self.add_tensors[tensor.size()] = torch.Tensor(tensor.size())\n",
    "            if 'weight' in name:\n",
    "                nn.init.kaiming_normal(tensor)\n",
    "            else:\n",
    "                tensor.data.zero_()\n",
    "                        \n",
    "    def forward(self, x):\n",
    "        x = F.relu(self.conv1(x))\n",
    "        x = F.relu(self.conv2(x))\n",
    "        x = F.relu(self.conv3(x))\n",
    "        x = x.view(1, -1)\n",
    "        x = F.relu(self.dense(x))\n",
    "        return self.out(x)\n",
    "    \n",
    "    def evolve(self, sigma, rng_state):\n",
    "        torch.manual_seed(rng_state)\n",
    "        self.evolve_states.append((sigma, rng_state))\n",
    "            \n",
    "        for name, tensor in sorted(self.named_parameters()):\n",
    "            to_add = self.add_tensors[tensor.size()]\n",
    "            to_add.normal_(0.0, sigma)\n",
    "            tensor.data.add_(to_add)\n",
    "            \n",
    "    def compress(self):\n",
    "        return CompressedModel(self.rng_state, self.evolve_states)\n",
    "\n",
    "def uncompress_model(model):    \n",
    "    start_rng, other_rng = model.start_rng, model.other_rng\n",
    "    m = Model(start_rng)\n",
    "    for sigma, rng in other_rng:\n",
    "        m.evolve(sigma, rng)\n",
    "    return m\n",
    "\n",
    "def random_state():\n",
    "    return random.randint(0, 2**31-1)\n",
    "\n",
    "class CompressedModel:\n",
    "    def __init__(self, start_rng=None, other_rng=None):\n",
    "        self.start_rng = start_rng if start_rng is not None else random_state()\n",
    "        self.other_rng = other_rng if other_rng is not None else []\n",
    "        \n",
    "    def evolve(self, sigma, rng_state=None):\n",
    "        self.other_rng.append((sigma, rng_state if rng_state is not None else random_state()))"
   ]
  },
  {
   "cell_type": "code",
   "execution_count": null,
   "metadata": {},
   "outputs": [],
   "source": []
  }
 ],
 "metadata": {
  "kernelspec": {
   "display_name": "Python 3",
   "language": "python",
   "name": "python3"
  },
  "language_info": {
   "codemirror_mode": {
    "name": "ipython",
    "version": 3
   },
   "file_extension": ".py",
   "mimetype": "text/x-python",
   "name": "python",
   "nbconvert_exporter": "python",
   "pygments_lexer": "ipython3",
   "version": "3.4.5"
  }
 },
 "nbformat": 4,
 "nbformat_minor": 2
}
